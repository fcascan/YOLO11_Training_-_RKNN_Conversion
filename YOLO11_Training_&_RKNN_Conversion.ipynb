{
  "cells": [
    {
      "cell_type": "markdown",
      "metadata": {
        "id": "M0JFgOA0pc2W"
      },
      "source": [
        "# YOLO11 Training and RKNN Conversion\n",
        "\n",
        "![frogforce503_logo_2.png](https://frogforce503.org/FFmods/img/frogforce503_logo_2.png)"
      ]
    },
    {
      "cell_type": "markdown",
      "metadata": {
        "id": "dePvazaipc2h"
      },
      "source": [
        "This notebook trains a YOLO11 model using a Roboflow Dataset and converts it to the RKNN format to run on Rockchip Processors such as the RK3588 found on the Single Board Computer, the Orange Pi 5.\n",
        "\n",
        "To begin, go to session options on the right panel of the editor and select GPU T4 x2 as your accelerator, and enable using the internet.\n",
        "\n",
        "You can also upload your own pre-trained YOLO11 model if you trained it using the airockchip/ultralytics_yolo11 repository rather than training a new model.\n",
        "\n",
        "If you are new to python, object detection, jupyter notebooks, or anything else, check out the helpful links below."
      ]
    },
    {
      "cell_type": "markdown",
      "metadata": {
        "id": "XpwwX9BVpc2j"
      },
      "source": [
        "# Helpful Links 😀\n",
        "Jupyter Notebook Programming:\n",
        "*   Jupyter - [Jupyter Notebook Documentation](https://jupyter-notebook.readthedocs.io/en/latest/)\n",
        "*   Kaggle - [How to use Kaggle](https://www.kaggle.com/docs/notebooks)\n",
        "*   w3schools - [Python Course](https://www.w3schools.com/python/default.asp)\n",
        "*   Amazon Web Services - [Command Line Interface](https://aws.amazon.com/what-is/cli)\n",
        "*   Tutorialspoint - [Magic Commands](https://www.tutorialspoint.com/jupyter/ipython_magic_commands.htm)\n",
        "\n",
        "\n",
        "Machine Learning Fundamentals:\n",
        "*   IBM - [What is Machine Learning?](https://www.ibm.com/topics/machine-learning)\n",
        "*   IBM - [Neural Networks](https://www.ibm.com/topics/neural-networks)\n",
        "\n",
        "\n",
        "About YOLO11:\n",
        "*   Data Scientist - [What is YOLO?](https://datascientest.com/en/you-only-look-once-yolo-what-is-it)\n",
        "*   Roboflow - [What is YOLO11?](https://blog.roboflow.com/what-is-yolo11)\n",
        "*   Ultralytics - [YOLO Docs](https://docs.ultralytics.com/)\n",
        "\n",
        "\n",
        "\n",
        "\n",
        "\n",
        "About the Orange Pi 5:\n",
        "\n",
        "*   BAE Systems - [Single Board Computers](https://www.baesystems.com/en-us/definition/what-are-single-board-computers)\n",
        "*   Orange Pi - [Orange Pi 5 Specs](http://www.orangepi.org/html/hardWare/computerAndMicrocontrollers/details/Orange-Pi-5.html)"
      ]
    },
    {
      "cell_type": "markdown",
      "metadata": {
        "id": "3YaA5bmipc2m"
      },
      "source": [
        "# Setup\n",
        "YOLO11 is a version of the YOLO(You Only Look Once) computer vision model created by Ultralytics. This notebook will create and train a YOLO11 model from scratch.\n",
        "\n",
        "We are going through a non-standard installation process by cloning the 3rd party ultralytics_yolo11 repository which implements RKNN support in the YOLO11 model.\n",
        "\n",
        "The official ultralytics YOLO11 model does not have RKNN support, so we can't install the standard stuff.\n",
        "\n",
        "This is important because in order for the NPUs the Rockchip Processors to run the model, they have to be formatted in RKNN."
      ]
    },
    {
      "cell_type": "code",
      "execution_count": 2,
      "metadata": {
        "colab": {
          "base_uri": "https://localhost:8080/"
        },
        "id": "B7ux4OrJpc2p",
        "outputId": "b22e9211-0290-49d8-848f-4f878ceb82c2"
      },
      "outputs": [
        {
          "output_type": "stream",
          "name": "stdout",
          "text": [
            "/content\n",
            "/content\n",
            "fatal: destination path 'ultralytics' already exists and is not an empty directory.\n",
            "/content/ultralytics\n",
            "Obtaining file:///content/ultralytics\n",
            "  Installing build dependencies ... \u001b[?25l\u001b[?25hdone\n",
            "  Checking if build backend supports build_editable ... \u001b[?25l\u001b[?25hdone\n",
            "  Getting requirements to build editable ... \u001b[?25l\u001b[?25hdone\n",
            "  Preparing editable metadata (pyproject.toml) ... \u001b[?25l\u001b[?25hdone\n",
            "Requirement already satisfied: numpy>=1.23.0 in /usr/local/lib/python3.11/dist-packages (from ultralytics==8.3.9) (1.26.4)\n",
            "Requirement already satisfied: matplotlib>=3.3.0 in /usr/local/lib/python3.11/dist-packages (from ultralytics==8.3.9) (3.10.0)\n",
            "Requirement already satisfied: opencv-python>=4.6.0 in /usr/local/lib/python3.11/dist-packages (from ultralytics==8.3.9) (4.11.0.86)\n",
            "Requirement already satisfied: pillow>=7.1.2 in /usr/local/lib/python3.11/dist-packages (from ultralytics==8.3.9) (11.1.0)\n",
            "Requirement already satisfied: pyyaml>=5.3.1 in /usr/local/lib/python3.11/dist-packages (from ultralytics==8.3.9) (6.0.2)\n",
            "Requirement already satisfied: requests>=2.23.0 in /usr/local/lib/python3.11/dist-packages (from ultralytics==8.3.9) (2.32.3)\n",
            "Requirement already satisfied: scipy>=1.4.1 in /usr/local/lib/python3.11/dist-packages (from ultralytics==8.3.9) (1.14.1)\n",
            "Requirement already satisfied: torch>=1.8.0 in /usr/local/lib/python3.11/dist-packages (from ultralytics==8.3.9) (2.4.0)\n",
            "Requirement already satisfied: torchvision>=0.9.0 in /usr/local/lib/python3.11/dist-packages (from ultralytics==8.3.9) (0.21.0+cu124)\n",
            "Requirement already satisfied: tqdm>=4.64.0 in /usr/local/lib/python3.11/dist-packages (from ultralytics==8.3.9) (4.67.1)\n",
            "Requirement already satisfied: psutil in /usr/local/lib/python3.11/dist-packages (from ultralytics==8.3.9) (5.9.5)\n",
            "Requirement already satisfied: py-cpuinfo in /usr/local/lib/python3.11/dist-packages (from ultralytics==8.3.9) (9.0.0)\n",
            "Requirement already satisfied: pandas>=1.1.4 in /usr/local/lib/python3.11/dist-packages (from ultralytics==8.3.9) (2.2.2)\n",
            "Requirement already satisfied: seaborn>=0.11.0 in /usr/local/lib/python3.11/dist-packages (from ultralytics==8.3.9) (0.13.2)\n",
            "Requirement already satisfied: ultralytics-thop>=2.0.0 in /usr/local/lib/python3.11/dist-packages (from ultralytics==8.3.9) (2.0.14)\n",
            "Requirement already satisfied: contourpy>=1.0.1 in /usr/local/lib/python3.11/dist-packages (from matplotlib>=3.3.0->ultralytics==8.3.9) (1.3.1)\n",
            "Requirement already satisfied: cycler>=0.10 in /usr/local/lib/python3.11/dist-packages (from matplotlib>=3.3.0->ultralytics==8.3.9) (0.12.1)\n",
            "Requirement already satisfied: fonttools>=4.22.0 in /usr/local/lib/python3.11/dist-packages (from matplotlib>=3.3.0->ultralytics==8.3.9) (4.57.0)\n",
            "Requirement already satisfied: kiwisolver>=1.3.1 in /usr/local/lib/python3.11/dist-packages (from matplotlib>=3.3.0->ultralytics==8.3.9) (1.4.8)\n",
            "Requirement already satisfied: packaging>=20.0 in /usr/local/lib/python3.11/dist-packages (from matplotlib>=3.3.0->ultralytics==8.3.9) (24.2)\n",
            "Requirement already satisfied: pyparsing>=2.3.1 in /usr/local/lib/python3.11/dist-packages (from matplotlib>=3.3.0->ultralytics==8.3.9) (3.2.3)\n",
            "Requirement already satisfied: python-dateutil>=2.7 in /usr/local/lib/python3.11/dist-packages (from matplotlib>=3.3.0->ultralytics==8.3.9) (2.8.2)\n",
            "Requirement already satisfied: pytz>=2020.1 in /usr/local/lib/python3.11/dist-packages (from pandas>=1.1.4->ultralytics==8.3.9) (2025.2)\n",
            "Requirement already satisfied: tzdata>=2022.7 in /usr/local/lib/python3.11/dist-packages (from pandas>=1.1.4->ultralytics==8.3.9) (2025.2)\n",
            "Requirement already satisfied: charset-normalizer<4,>=2 in /usr/local/lib/python3.11/dist-packages (from requests>=2.23.0->ultralytics==8.3.9) (3.4.1)\n",
            "Requirement already satisfied: idna<4,>=2.5 in /usr/local/lib/python3.11/dist-packages (from requests>=2.23.0->ultralytics==8.3.9) (3.7)\n",
            "Requirement already satisfied: urllib3<3,>=1.21.1 in /usr/local/lib/python3.11/dist-packages (from requests>=2.23.0->ultralytics==8.3.9) (2.3.0)\n",
            "Requirement already satisfied: certifi>=2017.4.17 in /usr/local/lib/python3.11/dist-packages (from requests>=2.23.0->ultralytics==8.3.9) (2025.1.31)\n",
            "Requirement already satisfied: filelock in /usr/local/lib/python3.11/dist-packages (from torch>=1.8.0->ultralytics==8.3.9) (3.18.0)\n",
            "Requirement already satisfied: typing-extensions>=4.8.0 in /usr/local/lib/python3.11/dist-packages (from torch>=1.8.0->ultralytics==8.3.9) (4.13.1)\n",
            "Requirement already satisfied: sympy in /usr/local/lib/python3.11/dist-packages (from torch>=1.8.0->ultralytics==8.3.9) (1.13.1)\n",
            "Requirement already satisfied: networkx in /usr/local/lib/python3.11/dist-packages (from torch>=1.8.0->ultralytics==8.3.9) (3.4.2)\n",
            "Requirement already satisfied: jinja2 in /usr/local/lib/python3.11/dist-packages (from torch>=1.8.0->ultralytics==8.3.9) (3.1.6)\n",
            "Requirement already satisfied: fsspec in /usr/local/lib/python3.11/dist-packages (from torch>=1.8.0->ultralytics==8.3.9) (2025.3.2)\n",
            "Requirement already satisfied: nvidia-cuda-nvrtc-cu12==12.1.105 in /usr/local/lib/python3.11/dist-packages (from torch>=1.8.0->ultralytics==8.3.9) (12.1.105)\n",
            "Requirement already satisfied: nvidia-cuda-runtime-cu12==12.1.105 in /usr/local/lib/python3.11/dist-packages (from torch>=1.8.0->ultralytics==8.3.9) (12.1.105)\n",
            "Requirement already satisfied: nvidia-cuda-cupti-cu12==12.1.105 in /usr/local/lib/python3.11/dist-packages (from torch>=1.8.0->ultralytics==8.3.9) (12.1.105)\n",
            "Requirement already satisfied: nvidia-cudnn-cu12==9.1.0.70 in /usr/local/lib/python3.11/dist-packages (from torch>=1.8.0->ultralytics==8.3.9) (9.1.0.70)\n",
            "Requirement already satisfied: nvidia-cublas-cu12==12.1.3.1 in /usr/local/lib/python3.11/dist-packages (from torch>=1.8.0->ultralytics==8.3.9) (12.1.3.1)\n",
            "Requirement already satisfied: nvidia-cufft-cu12==11.0.2.54 in /usr/local/lib/python3.11/dist-packages (from torch>=1.8.0->ultralytics==8.3.9) (11.0.2.54)\n",
            "Requirement already satisfied: nvidia-curand-cu12==10.3.2.106 in /usr/local/lib/python3.11/dist-packages (from torch>=1.8.0->ultralytics==8.3.9) (10.3.2.106)\n",
            "Requirement already satisfied: nvidia-cusolver-cu12==11.4.5.107 in /usr/local/lib/python3.11/dist-packages (from torch>=1.8.0->ultralytics==8.3.9) (11.4.5.107)\n",
            "Requirement already satisfied: nvidia-cusparse-cu12==12.1.0.106 in /usr/local/lib/python3.11/dist-packages (from torch>=1.8.0->ultralytics==8.3.9) (12.1.0.106)\n",
            "Requirement already satisfied: nvidia-nccl-cu12==2.20.5 in /usr/local/lib/python3.11/dist-packages (from torch>=1.8.0->ultralytics==8.3.9) (2.20.5)\n",
            "Requirement already satisfied: nvidia-nvtx-cu12==12.1.105 in /usr/local/lib/python3.11/dist-packages (from torch>=1.8.0->ultralytics==8.3.9) (12.1.105)\n",
            "Requirement already satisfied: triton==3.0.0 in /usr/local/lib/python3.11/dist-packages (from torch>=1.8.0->ultralytics==8.3.9) (3.0.0)\n",
            "Requirement already satisfied: nvidia-nvjitlink-cu12 in /usr/local/lib/python3.11/dist-packages (from nvidia-cusolver-cu12==11.4.5.107->torch>=1.8.0->ultralytics==8.3.9) (12.4.127)\n",
            "Collecting torch>=1.8.0 (from ultralytics==8.3.9)\n",
            "  Using cached torch-2.6.0-cp311-cp311-manylinux1_x86_64.whl.metadata (28 kB)\n",
            "Collecting nvidia-cuda-nvrtc-cu12==12.4.127 (from torch>=1.8.0->ultralytics==8.3.9)\n",
            "  Using cached nvidia_cuda_nvrtc_cu12-12.4.127-py3-none-manylinux2014_x86_64.whl.metadata (1.5 kB)\n",
            "Collecting nvidia-cuda-runtime-cu12==12.4.127 (from torch>=1.8.0->ultralytics==8.3.9)\n",
            "  Using cached nvidia_cuda_runtime_cu12-12.4.127-py3-none-manylinux2014_x86_64.whl.metadata (1.5 kB)\n",
            "Collecting nvidia-cuda-cupti-cu12==12.4.127 (from torch>=1.8.0->ultralytics==8.3.9)\n",
            "  Using cached nvidia_cuda_cupti_cu12-12.4.127-py3-none-manylinux2014_x86_64.whl.metadata (1.6 kB)\n",
            "Collecting nvidia-cublas-cu12 (from nvidia-cudnn-cu12==9.1.0.70->torch>=1.8.0->ultralytics==8.3.9)\n",
            "  Using cached nvidia_cublas_cu12-12.4.5.8-py3-none-manylinux2014_x86_64.whl.metadata (1.5 kB)\n",
            "Collecting nvidia-cufft-cu12==11.2.1.3 (from torch>=1.8.0->ultralytics==8.3.9)\n",
            "  Using cached nvidia_cufft_cu12-11.2.1.3-py3-none-manylinux2014_x86_64.whl.metadata (1.5 kB)\n",
            "Collecting nvidia-curand-cu12==10.3.5.147 (from torch>=1.8.0->ultralytics==8.3.9)\n",
            "  Using cached nvidia_curand_cu12-10.3.5.147-py3-none-manylinux2014_x86_64.whl.metadata (1.5 kB)\n",
            "Collecting nvidia-cusolver-cu12==11.6.1.9 (from torch>=1.8.0->ultralytics==8.3.9)\n",
            "  Using cached nvidia_cusolver_cu12-11.6.1.9-py3-none-manylinux2014_x86_64.whl.metadata (1.6 kB)\n",
            "Collecting nvidia-cusparse-cu12 (from nvidia-cusolver-cu12==11.4.5.107->torch>=1.8.0->ultralytics==8.3.9)\n",
            "  Using cached nvidia_cusparse_cu12-12.3.1.170-py3-none-manylinux2014_x86_64.whl.metadata (1.6 kB)\n",
            "Requirement already satisfied: nvidia-cusparselt-cu12==0.6.2 in /usr/local/lib/python3.11/dist-packages (from torch>=1.8.0->ultralytics==8.3.9) (0.6.2)\n",
            "Collecting nvidia-nccl-cu12==2.21.5 (from torch>=1.8.0->ultralytics==8.3.9)\n",
            "  Using cached nvidia_nccl_cu12-2.21.5-py3-none-manylinux2014_x86_64.whl.metadata (1.8 kB)\n",
            "Collecting nvidia-nvtx-cu12==12.4.127 (from torch>=1.8.0->ultralytics==8.3.9)\n",
            "  Using cached nvidia_nvtx_cu12-12.4.127-py3-none-manylinux2014_x86_64.whl.metadata (1.7 kB)\n",
            "Collecting triton==3.2.0 (from torch>=1.8.0->ultralytics==8.3.9)\n",
            "  Using cached triton-3.2.0-cp311-cp311-manylinux_2_17_x86_64.manylinux2014_x86_64.whl.metadata (1.4 kB)\n",
            "Requirement already satisfied: mpmath<1.4,>=1.1.0 in /usr/local/lib/python3.11/dist-packages (from sympy->torch>=1.8.0->ultralytics==8.3.9) (1.3.0)\n",
            "Requirement already satisfied: six>=1.5 in /usr/local/lib/python3.11/dist-packages (from python-dateutil>=2.7->matplotlib>=3.3.0->ultralytics==8.3.9) (1.17.0)\n",
            "Requirement already satisfied: MarkupSafe>=2.0 in /usr/local/lib/python3.11/dist-packages (from jinja2->torch>=1.8.0->ultralytics==8.3.9) (3.0.2)\n",
            "Using cached torch-2.6.0-cp311-cp311-manylinux1_x86_64.whl (766.7 MB)\n",
            "Using cached nvidia_cublas_cu12-12.4.5.8-py3-none-manylinux2014_x86_64.whl (363.4 MB)\n",
            "Using cached nvidia_cuda_cupti_cu12-12.4.127-py3-none-manylinux2014_x86_64.whl (13.8 MB)\n",
            "Using cached nvidia_cuda_nvrtc_cu12-12.4.127-py3-none-manylinux2014_x86_64.whl (24.6 MB)\n",
            "Using cached nvidia_cuda_runtime_cu12-12.4.127-py3-none-manylinux2014_x86_64.whl (883 kB)\n",
            "Using cached nvidia_cufft_cu12-11.2.1.3-py3-none-manylinux2014_x86_64.whl (211.5 MB)\n",
            "Using cached nvidia_curand_cu12-10.3.5.147-py3-none-manylinux2014_x86_64.whl (56.3 MB)\n",
            "Using cached nvidia_cusolver_cu12-11.6.1.9-py3-none-manylinux2014_x86_64.whl (127.9 MB)\n",
            "Using cached nvidia_cusparse_cu12-12.3.1.170-py3-none-manylinux2014_x86_64.whl (207.5 MB)\n",
            "Using cached nvidia_nccl_cu12-2.21.5-py3-none-manylinux2014_x86_64.whl (188.7 MB)\n",
            "Using cached nvidia_nvtx_cu12-12.4.127-py3-none-manylinux2014_x86_64.whl (99 kB)\n",
            "Using cached triton-3.2.0-cp311-cp311-manylinux_2_17_x86_64.manylinux2014_x86_64.whl (253.2 MB)\n",
            "Building wheels for collected packages: ultralytics\n",
            "  Building editable for ultralytics (pyproject.toml) ... \u001b[?25l\u001b[?25hdone\n",
            "  Created wheel for ultralytics: filename=ultralytics-8.3.9-0.editable-py3-none-any.whl size=22989 sha256=966b5812885cfa8caf49de139821948d7e0f960e69bf4432986ce12f5ff2ae43\n",
            "  Stored in directory: /tmp/pip-ephem-wheel-cache-nc7upjo2/wheels/ea/71/6b/a9012dfb148489fd8125c2310e565414c996b3c7721defe799\n",
            "Successfully built ultralytics\n",
            "Installing collected packages: triton, nvidia-nvtx-cu12, nvidia-nccl-cu12, nvidia-cusparse-cu12, nvidia-curand-cu12, nvidia-cufft-cu12, nvidia-cuda-runtime-cu12, nvidia-cuda-nvrtc-cu12, nvidia-cuda-cupti-cu12, nvidia-cublas-cu12, nvidia-cusolver-cu12, torch, ultralytics\n",
            "  Attempting uninstall: triton\n",
            "    Found existing installation: triton 3.0.0\n",
            "    Uninstalling triton-3.0.0:\n",
            "      Successfully uninstalled triton-3.0.0\n",
            "  Attempting uninstall: nvidia-nvtx-cu12\n",
            "    Found existing installation: nvidia-nvtx-cu12 12.1.105\n",
            "    Uninstalling nvidia-nvtx-cu12-12.1.105:\n",
            "      Successfully uninstalled nvidia-nvtx-cu12-12.1.105\n",
            "  Attempting uninstall: nvidia-nccl-cu12\n",
            "    Found existing installation: nvidia-nccl-cu12 2.20.5\n",
            "    Uninstalling nvidia-nccl-cu12-2.20.5:\n",
            "      Successfully uninstalled nvidia-nccl-cu12-2.20.5\n",
            "  Attempting uninstall: nvidia-cusparse-cu12\n",
            "    Found existing installation: nvidia-cusparse-cu12 12.1.0.106\n",
            "    Uninstalling nvidia-cusparse-cu12-12.1.0.106:\n",
            "      Successfully uninstalled nvidia-cusparse-cu12-12.1.0.106\n",
            "  Attempting uninstall: nvidia-curand-cu12\n",
            "    Found existing installation: nvidia-curand-cu12 10.3.2.106\n",
            "    Uninstalling nvidia-curand-cu12-10.3.2.106:\n",
            "      Successfully uninstalled nvidia-curand-cu12-10.3.2.106\n",
            "  Attempting uninstall: nvidia-cufft-cu12\n",
            "    Found existing installation: nvidia-cufft-cu12 11.0.2.54\n",
            "    Uninstalling nvidia-cufft-cu12-11.0.2.54:\n",
            "      Successfully uninstalled nvidia-cufft-cu12-11.0.2.54\n",
            "  Attempting uninstall: nvidia-cuda-runtime-cu12\n",
            "    Found existing installation: nvidia-cuda-runtime-cu12 12.1.105\n",
            "    Uninstalling nvidia-cuda-runtime-cu12-12.1.105:\n",
            "      Successfully uninstalled nvidia-cuda-runtime-cu12-12.1.105\n",
            "  Attempting uninstall: nvidia-cuda-nvrtc-cu12\n",
            "    Found existing installation: nvidia-cuda-nvrtc-cu12 12.1.105\n",
            "    Uninstalling nvidia-cuda-nvrtc-cu12-12.1.105:\n",
            "      Successfully uninstalled nvidia-cuda-nvrtc-cu12-12.1.105\n",
            "  Attempting uninstall: nvidia-cuda-cupti-cu12\n",
            "    Found existing installation: nvidia-cuda-cupti-cu12 12.1.105\n",
            "    Uninstalling nvidia-cuda-cupti-cu12-12.1.105:\n",
            "      Successfully uninstalled nvidia-cuda-cupti-cu12-12.1.105\n",
            "  Attempting uninstall: nvidia-cublas-cu12\n",
            "    Found existing installation: nvidia-cublas-cu12 12.1.3.1\n",
            "    Uninstalling nvidia-cublas-cu12-12.1.3.1:\n",
            "      Successfully uninstalled nvidia-cublas-cu12-12.1.3.1\n",
            "  Attempting uninstall: nvidia-cusolver-cu12\n",
            "    Found existing installation: nvidia-cusolver-cu12 11.4.5.107\n",
            "    Uninstalling nvidia-cusolver-cu12-11.4.5.107:\n",
            "      Successfully uninstalled nvidia-cusolver-cu12-11.4.5.107\n",
            "  Attempting uninstall: torch\n",
            "    Found existing installation: torch 2.4.0\n",
            "    Uninstalling torch-2.4.0:\n",
            "      Successfully uninstalled torch-2.4.0\n",
            "  Attempting uninstall: ultralytics\n",
            "    Found existing installation: ultralytics 8.3.9\n",
            "    Uninstalling ultralytics-8.3.9:\n",
            "      Successfully uninstalled ultralytics-8.3.9\n",
            "\u001b[31mERROR: pip's dependency resolver does not currently take into account all the packages that are installed. This behaviour is the source of the following dependency conflicts.\n",
            "rknn-toolkit2 2.3.2 requires torch<=2.4.0,>=1.10.1, but you have torch 2.6.0 which is incompatible.\u001b[0m\u001b[31m\n",
            "\u001b[0mSuccessfully installed nvidia-cublas-cu12-12.4.5.8 nvidia-cuda-cupti-cu12-12.4.127 nvidia-cuda-nvrtc-cu12-12.4.127 nvidia-cuda-runtime-cu12-12.4.127 nvidia-cufft-cu12-11.2.1.3 nvidia-curand-cu12-10.3.5.147 nvidia-cusolver-cu12-11.6.1.9 nvidia-cusparse-cu12-12.3.1.170 nvidia-nccl-cu12-2.21.5 nvidia-nvtx-cu12-12.4.127 torch-2.6.0 triton-3.2.0 ultralytics-8.3.9\n"
          ]
        }
      ],
      "source": [
        "import os #python module that allows for you to interact with the elements of the operating system like directories, processes, environments, paths\n",
        "\n",
        "#getcwd() gets the working directory we are currently in. We're always working in this directory, we'll store it in avariable called root path\n",
        "#os.getcwd returns a string\n",
        "root_path = os.getcwd()\n",
        "\n",
        "#in a kaggle environment, it should print /kaggle/working\n",
        "print(root_path)\n",
        "\n",
        "#cd stands for change directory, we are just moving into the root path directory\n",
        "#% means we are doing a magic command, % means it works on one line, %% means it works on an entire cell of code. It is used in interactive environments like Jupyter notebooks such as this one.\n",
        "%cd {root_path}\n",
        "\n",
        "#! means a shell command which is in command line interface.\n",
        "!git clone https://github.com/airockchip/ultralytics_yolo11 ultralytics\n",
        "%cd ultralytics\n",
        "\n",
        "#installing dependencies\n",
        "!pip install -e .\n",
        "\n",
        "#import to use for code\n",
        "import ultralytics"
      ]
    },
    {
      "cell_type": "markdown",
      "metadata": {
        "id": "wpXEdBCdpc2t"
      },
      "source": [
        "# Downloading a Dataset\n",
        "[Roboflow Universe](https://universe.roboflow.com/) is an open source repository where you can find datasets to train models you need.\n",
        "\n",
        "With object detection, a dataset is a collection of images that are annotated with bounding boxes and classifications of objects your machine learning model has to detect.\n",
        "\n",
        "For this notebook's use, we want to use a YOLO11 object detection model, that means we need to download a dataset from Roboflow that is formatted to be used by the model.\n",
        "\n",
        "To get a dataset, go to https://universe.roboflow.com/ and find a project. Press datasets on the left bar of the page. Then on the right side, press download dataset. Select a format, for this notebook, select YOLO11 and select show download code. Copy and paste the code snippet in the cell below. You NEED to do this NO MATTER WHAT because each user has their own roboflow API key.\n",
        "\n",
        "Even if you aren't copying a code snippet, you still need to find your API Key. Go to https://app.roboflow.com/ and log in. In the left navigation bar, press settings. Then press API Keys. You will use your private API Key."
      ]
    },
    {
      "cell_type": "code",
      "execution_count": 3,
      "metadata": {
        "id": "ktRjFvq0sJUt"
      },
      "outputs": [],
      "source": [
        "import configparser\n",
        "\n",
        "config = configparser.ConfigParser()\n",
        "config.read(root_path + '/config.ini')\n",
        "ROBOFLOW_API_KEY = config.get('ROBOFLOW', 'ROBOFLOW_API_KEY')\n",
        "ROBOFLOW_WORKSPACE = config.get('ROBOFLOW', 'ROBOFLOW_WORKSPACE')\n",
        "ROBOFLOW_PROJECT = config.get('ROBOFLOW', 'ROBOFLOW_PROJECT')\n",
        "ROBOFLOW_PROJECT_VERSION = config.get('ROBOFLOW', 'ROBOFLOW_PROJECT_VERSION')\n",
        "ROBOFLOW_PROJECT_VERSION_DOWNLOAD = config.get('ROBOFLOW', 'ROBOFLOW_PROJECT_VERSION_DOWNLOAD')"
      ]
    },
    {
      "cell_type": "code",
      "execution_count": 4,
      "metadata": {
        "colab": {
          "base_uri": "https://localhost:8080/"
        },
        "id": "GRkyobU1pc2y",
        "outputId": "ad6f3078-52b6-42dd-f518-37476259a762"
      },
      "outputs": [
        {
          "output_type": "stream",
          "name": "stdout",
          "text": [
            "Requirement already satisfied: roboflow in /usr/local/lib/python3.11/dist-packages (1.1.61)\n",
            "Requirement already satisfied: certifi in /usr/local/lib/python3.11/dist-packages (from roboflow) (2025.1.31)\n",
            "Requirement already satisfied: idna==3.7 in /usr/local/lib/python3.11/dist-packages (from roboflow) (3.7)\n",
            "Requirement already satisfied: cycler in /usr/local/lib/python3.11/dist-packages (from roboflow) (0.12.1)\n",
            "Requirement already satisfied: kiwisolver>=1.3.1 in /usr/local/lib/python3.11/dist-packages (from roboflow) (1.4.8)\n",
            "Requirement already satisfied: matplotlib in /usr/local/lib/python3.11/dist-packages (from roboflow) (3.10.0)\n",
            "Requirement already satisfied: numpy>=1.18.5 in /usr/local/lib/python3.11/dist-packages (from roboflow) (1.26.4)\n",
            "Requirement already satisfied: opencv-python-headless==4.10.0.84 in /usr/local/lib/python3.11/dist-packages (from roboflow) (4.10.0.84)\n",
            "Requirement already satisfied: Pillow>=7.1.2 in /usr/local/lib/python3.11/dist-packages (from roboflow) (11.1.0)\n",
            "Requirement already satisfied: pillow-heif>=0.18.0 in /usr/local/lib/python3.11/dist-packages (from roboflow) (0.22.0)\n",
            "Requirement already satisfied: python-dateutil in /usr/local/lib/python3.11/dist-packages (from roboflow) (2.8.2)\n",
            "Requirement already satisfied: python-dotenv in /usr/local/lib/python3.11/dist-packages (from roboflow) (1.1.0)\n",
            "Requirement already satisfied: requests in /usr/local/lib/python3.11/dist-packages (from roboflow) (2.32.3)\n",
            "Requirement already satisfied: six in /usr/local/lib/python3.11/dist-packages (from roboflow) (1.17.0)\n",
            "Requirement already satisfied: urllib3>=1.26.6 in /usr/local/lib/python3.11/dist-packages (from roboflow) (2.3.0)\n",
            "Requirement already satisfied: tqdm>=4.41.0 in /usr/local/lib/python3.11/dist-packages (from roboflow) (4.67.1)\n",
            "Requirement already satisfied: PyYAML>=5.3.1 in /usr/local/lib/python3.11/dist-packages (from roboflow) (6.0.2)\n",
            "Requirement already satisfied: requests-toolbelt in /usr/local/lib/python3.11/dist-packages (from roboflow) (1.0.0)\n",
            "Requirement already satisfied: filetype in /usr/local/lib/python3.11/dist-packages (from roboflow) (1.2.0)\n",
            "Requirement already satisfied: contourpy>=1.0.1 in /usr/local/lib/python3.11/dist-packages (from matplotlib->roboflow) (1.3.1)\n",
            "Requirement already satisfied: fonttools>=4.22.0 in /usr/local/lib/python3.11/dist-packages (from matplotlib->roboflow) (4.57.0)\n",
            "Requirement already satisfied: packaging>=20.0 in /usr/local/lib/python3.11/dist-packages (from matplotlib->roboflow) (24.2)\n",
            "Requirement already satisfied: pyparsing>=2.3.1 in /usr/local/lib/python3.11/dist-packages (from matplotlib->roboflow) (3.2.3)\n",
            "Requirement already satisfied: charset-normalizer<4,>=2 in /usr/local/lib/python3.11/dist-packages (from requests->roboflow) (3.4.1)\n",
            "loading Roboflow workspace...\n",
            "loading Roboflow project...\n"
          ]
        }
      ],
      "source": [
        "!pip install roboflow\n",
        "\n",
        "from roboflow import Roboflow\n",
        "rf = Roboflow(api_key=ROBOFLOW_API_KEY)\n",
        "project = rf.workspace(ROBOFLOW_WORKSPACE).project(ROBOFLOW_PROJECT)\n",
        "version = project.version(ROBOFLOW_PROJECT_VERSION)\n",
        "dataset = version.download(ROBOFLOW_PROJECT_VERSION_DOWNLOAD)"
      ]
    },
    {
      "cell_type": "code",
      "execution_count": 5,
      "metadata": {
        "id": "daVBZsehpc23",
        "colab": {
          "base_uri": "https://localhost:8080/"
        },
        "outputId": "e8a7efa7-3eb6-4205-bd0b-96f131496301"
      },
      "outputs": [
        {
          "output_type": "stream",
          "name": "stdout",
          "text": [
            "names:\n",
            "- knife\n",
            "- pistol\n",
            "nc: 2\n",
            "roboflow:\n",
            "  license: CC BY 4.0\n",
            "  project: crime-detection-2upma\n",
            "  url: https://universe.roboflow.com/proyecto-final-6hd5x/crime-detection-2upma/dataset/1\n",
            "  version: 1\n",
            "  workspace: proyecto-final-6hd5x\n",
            "test: /content/ultralytics/Crime-Detection-1/test/images\n",
            "train: /content/ultralytics/Crime-Detection-1/train/images\n",
            "val: /content/ultralytics/Crime-Detection-1/valid/images\n"
          ]
        }
      ],
      "source": [
        "#%cat prints the data in a file (referenced by its path)\n",
        "%cat {dataset.location}/data.yaml"
      ]
    },
    {
      "cell_type": "markdown",
      "metadata": {
        "id": "GAXJsOwXpc26"
      },
      "source": [
        "### Fixing Dataset Directories"
      ]
    },
    {
      "cell_type": "code",
      "execution_count": 6,
      "metadata": {
        "id": "S3K8RMdapc2-"
      },
      "outputs": [],
      "source": [
        "import yaml\n",
        "\n",
        "with open(dataset.location + \"/data.yaml\", 'r') as stream: #open the data.yaml file, 'r' means it is read only\n",
        "    data = yaml.safe_load(stream) #takes the data from yaml and turns it into dictionaries\n",
        "    data[\"train\"] = dataset.location + \"/train/images\" if \"train\" in data else print(\"dataset doesn't have training images\") #the key 'train' contains the path to the train images, replacing existing path with the correct path\n",
        "    data[\"val\"] = dataset.location + \"/valid/images\" if \"val\" in data else print(\"dataset doesn't have validating images\")\n",
        "    data[\"test\"] = dataset.location + \"/test/images\" if \"test\" in data else print(\"dataset doesn't have testing images\")\n",
        "\n",
        "with open(dataset.location + \"/data.yaml\", 'w') as stream: #'w' means we can write in the file\n",
        "    yaml.dump(data, stream, default_flow_style=False) #writes the data variable into the data.yaml file, default flow style just changes how the data looks in the file"
      ]
    },
    {
      "cell_type": "code",
      "execution_count": 7,
      "metadata": {
        "id": "tvjRecXnpc3A",
        "colab": {
          "base_uri": "https://localhost:8080/"
        },
        "outputId": "3f5ff3b6-018f-40e1-aa29-ab3131a239d4"
      },
      "outputs": [
        {
          "output_type": "stream",
          "name": "stdout",
          "text": [
            "names:\n",
            "- knife\n",
            "- pistol\n",
            "nc: 2\n",
            "roboflow:\n",
            "  license: CC BY 4.0\n",
            "  project: crime-detection-2upma\n",
            "  url: https://universe.roboflow.com/proyecto-final-6hd5x/crime-detection-2upma/dataset/1\n",
            "  version: 1\n",
            "  workspace: proyecto-final-6hd5x\n",
            "test: /content/ultralytics/Crime-Detection-1/test/images\n",
            "train: /content/ultralytics/Crime-Detection-1/train/images\n",
            "val: /content/ultralytics/Crime-Detection-1/valid/images\n"
          ]
        }
      ],
      "source": [
        "%cat {dataset.location}/data.yaml"
      ]
    },
    {
      "cell_type": "markdown",
      "metadata": {
        "id": "EQDXvjaopc3B"
      },
      "source": [
        "# Creating a Model\n",
        "\n",
        "If you have already trained a model using the airockchip/ultralytics_yolo11 repository, and you want to skip the training steps set the boolean `skip_training` variable equal to True."
      ]
    },
    {
      "cell_type": "code",
      "execution_count": 8,
      "metadata": {
        "id": "zoxncInypc3C"
      },
      "outputs": [],
      "source": [
        "skip_training = False\n",
        "\n",
        "from IPython.core.magic import register_line_cell_magic\n",
        "\n",
        "@register_line_cell_magic\n",
        "def skip(line, cell):\n",
        "    if not eval(line):\n",
        "        return get_ipython().run_cell(cell)"
      ]
    },
    {
      "cell_type": "markdown",
      "metadata": {
        "id": "SWA3imDrpc3C"
      },
      "source": [
        "## Training Setup"
      ]
    },
    {
      "cell_type": "code",
      "execution_count": 9,
      "metadata": {
        "id": "8P3O5l6fpc3D"
      },
      "outputs": [],
      "source": [
        "import os\n",
        "import re\n",
        "from IPython.core.magic import register_line_cell_magic\n",
        "\n",
        "#register_line_cell_magic means we can write our own magic command\n",
        "@register_line_cell_magic\n",
        "def writetemplate(line, cell): #takes EVERYTHING in the cell and puts it in the file that's on the same line as when write template is called\n",
        "    with open(line, 'w') as f:\n",
        "        f.write(cell.format(**globals()))\n",
        "        #** means unspecified number of arguments.\n",
        "        #globals() returns the global symbol table which has the every variable in the notebook.\n",
        "        #Any variables inside the cell are replaced by their values from the global symbol table using the format function.\n",
        "        #write writes the entire formatted cell into the file, including comments\n",
        "        print(\"Wrote successfully to \" + line)"
      ]
    },
    {
      "cell_type": "code",
      "execution_count": 10,
      "metadata": {
        "id": "VLNCsmflpc3E",
        "colab": {
          "base_uri": "https://localhost:8080/"
        },
        "outputId": "ce71de3c-a599-4ccd-ea45-7e5b92d4d410"
      },
      "outputs": [
        {
          "output_type": "stream",
          "name": "stdout",
          "text": [
            "num_classes: 2\n",
            "/content/ultralytics\n"
          ]
        }
      ],
      "source": [
        "# define number of classes based on YAML\n",
        "with open(dataset.location + \"/data.yaml\", 'r') as stream: #reads the data.yaml file as the variable stream\n",
        "    #yaml.safeload returns the contents of stream as a dictionary of dictionaries\n",
        "    num_classes = str(len(yaml.safe_load(stream)['names'])) #number of terms in the \"names\" key is the number of classes\n",
        "\n",
        "print(f\"num_classes: {num_classes}\")\n",
        "%cd {root_path}/ultralytics"
      ]
    },
    {
      "cell_type": "markdown",
      "metadata": {
        "id": "-BB2ewR6pc3F"
      },
      "source": [
        "### YOLO11 Architecture\n",
        "Yolo11 architecture found here: https://github.com/ultralytics/ultralytics/blob/main/ultralytics/cfg/models/11/yolo11.yaml.\n",
        "\n",
        "Creating a custom yaml file to fit the number of classes in our dataset so that we can train models from scratch."
      ]
    },
    {
      "cell_type": "code",
      "execution_count": 11,
      "metadata": {
        "id": "ixVvyfjepc3I",
        "colab": {
          "base_uri": "https://localhost:8080/"
        },
        "outputId": "38d5c725-cb53-4f3e-9939-0e49d5b1699b"
      },
      "outputs": [
        {
          "output_type": "stream",
          "name": "stdout",
          "text": [
            "Wrote successfully to custom_yolo11.yaml\n"
          ]
        }
      ],
      "source": [
        "%%writetemplate custom_yolo11.yaml\n",
        "\n",
        "# Ultralytics YOLO 🚀, AGPL-3.0 license\n",
        "# YOLO11 object detection model with P3-P5 outputs. For Usage examples see https://docs.ultralytics.com/tasks/detect\n",
        "\n",
        "# Parameters\n",
        "nc: {num_classes}  # number of classes\n",
        "scales: # model compound scaling constants, i.e. 'model=yolo11n.yaml' will call yolo11.yaml with scale 'n'\n",
        "  # [depth, width, max_channels]\n",
        "  n: [0.50, 0.25, 1024] # summary: 319 layers, 2624080 parameters, 2624064 gradients, 6.6 GFLOPs\n",
        "  s: [0.50, 0.50, 1024] # summary: 319 layers, 9458752 parameters, 9458736 gradients, 21.7 GFLOPs\n",
        "  m: [0.50, 1.00, 512] # summary: 409 layers, 20114688 parameters, 20114672 gradients, 68.5 GFLOPs\n",
        "  l: [1.00, 1.00, 512] # summary: 631 layers, 25372160 parameters, 25372144 gradients, 87.6 GFLOPs\n",
        "  x: [1.00, 1.50, 512] # summary: 631 layers, 56966176 parameters, 56966160 gradients, 196.0 GFLOPs\n",
        "\n",
        "# YOLO11n backbone\n",
        "backbone:\n",
        "  # [from, repeats, module, args]\n",
        "  - [-1, 1, Conv, [64, 3, 2]] # 0-P1/2\n",
        "  - [-1, 1, Conv, [128, 3, 2]] # 1-P2/4\n",
        "  - [-1, 2, C3k2, [256, False, 0.25]]\n",
        "  - [-1, 1, Conv, [256, 3, 2]] # 3-P3/8\n",
        "  - [-1, 2, C3k2, [512, False, 0.25]]\n",
        "  - [-1, 1, Conv, [512, 3, 2]] # 5-P4/16\n",
        "  - [-1, 2, C3k2, [512, True]]\n",
        "  - [-1, 1, Conv, [1024, 3, 2]] # 7-P5/32\n",
        "  - [-1, 2, C3k2, [1024, True]]\n",
        "  - [-1, 1, SPPF, [1024, 5]] # 9\n",
        "  - [-1, 2, C2PSA, [1024]] # 10\n",
        "\n",
        "# YOLO11n head\n",
        "head:\n",
        "  - [-1, 1, nn.Upsample, [None, 2, \"nearest\"]]\n",
        "  - [[-1, 6], 1, Concat, [1]] # cat backbone P4\n",
        "  - [-1, 2, C3k2, [512, False]] # 13\n",
        "\n",
        "  - [-1, 1, nn.Upsample, [None, 2, \"nearest\"]]\n",
        "  - [[-1, 4], 1, Concat, [1]] # cat backbone P3\n",
        "  - [-1, 2, C3k2, [256, False]] # 16 (P3/8-small)\n",
        "\n",
        "  - [-1, 1, Conv, [256, 3, 2]]\n",
        "  - [[-1, 13], 1, Concat, [1]] # cat head P4\n",
        "  - [-1, 2, C3k2, [512, False]] # 19 (P4/16-medium)\n",
        "\n",
        "  - [-1, 1, Conv, [512, 3, 2]]\n",
        "  - [[-1, 10], 1, Concat, [1]] # cat head P5\n",
        "  - [-1, 2, C3k2, [1024, True]] # 22 (P5/32-large)\n",
        "\n",
        "  - [[16, 19, 22], 1, Detect, [nc]] # Detect(P3, P4, P5)"
      ]
    },
    {
      "cell_type": "markdown",
      "metadata": {
        "id": "H26rSkHApc3M"
      },
      "source": [
        "## Training\n",
        "You can adjust the following settings:\n",
        "\n",
        "1.   model: one of [yolo11n, yolo11s, yolo11m, yolo11l, yolo11x], yolo11n is recommended for a Orange Pi 5.\n",
        "2.   image_size: The input size of the images fed to the model. Should be a multiple of 32.\n",
        "4.   epochs: How many times the model goes through ALL the data\n",
        "\n",
        "View other arguments for the train method here: https://docs.ultralytics.com/modes/train/#train-settings\n",
        "\n",
        "You can see the progress and metrics in the console below the cell. Your cls_loss, box_loss, and dfl_loss should be minimized (less than 1) and your P (precision), R (recall), mAP50, and mAP50-95 should be maximized (as close to 1.00 as possible)."
      ]
    },
    {
      "cell_type": "code",
      "execution_count": 12,
      "metadata": {
        "id": "MV5frNyQpc3O",
        "colab": {
          "base_uri": "https://localhost:8080/"
        },
        "outputId": "f85ff7a3-1571-4e99-dd2d-8faf38a509e7"
      },
      "outputs": [
        {
          "output_type": "stream",
          "name": "stdout",
          "text": [
            "/content/ultralytics\n"
          ]
        }
      ],
      "source": [
        "%cd {root_path}/ultralytics\n",
        "\n",
        "import os\n",
        "os.environ['WANDB_DISABLED'] = 'true'\n",
        "\n",
        "image_size = 448 #640\n",
        "model = \"yolo11n\""
      ]
    },
    {
      "cell_type": "code",
      "source": [
        "import torch\n",
        "torch.cuda.empty_cache()"
      ],
      "metadata": {
        "id": "x-7xzEkO9fqg"
      },
      "execution_count": 13,
      "outputs": []
    },
    {
      "cell_type": "code",
      "execution_count": 14,
      "metadata": {
        "id": "6MPjSl96pc3S",
        "colab": {
          "base_uri": "https://localhost:8080/"
        },
        "outputId": "74166a36-5063-4f31-aa7f-4ce0321d453b"
      },
      "outputs": [
        {
          "output_type": "stream",
          "name": "stdout",
          "text": [
            "New https://pypi.org/project/ultralytics/8.3.110 available 😃 Update with 'pip install -U ultralytics'\n",
            "Ultralytics 8.3.9 🚀 Python-3.11.12 torch-2.6.0+cu124 \n",
            "Traceback (most recent call last):\n",
            "  File \"/usr/local/bin/yolo\", line 8, in <module>\n",
            "    sys.exit(entrypoint())\n",
            "             ^^^^^^^^^^^^\n",
            "  File \"/content/ultralytics/ultralytics/cfg/__init__.py\", line 832, in entrypoint\n",
            "    getattr(model, mode)(**overrides)  # default args from model\n",
            "    ^^^^^^^^^^^^^^^^^^^^^^^^^^^^^^^^^\n",
            "  File \"/content/ultralytics/ultralytics/engine/model.py\", line 796, in train\n",
            "    self.trainer = (trainer or self._smart_load(\"trainer\"))(overrides=args, _callbacks=self.callbacks)\n",
            "                   ^^^^^^^^^^^^^^^^^^^^^^^^^^^^^^^^^^^^^^^^^^^^^^^^^^^^^^^^^^^^^^^^^^^^^^^^^^^^^^^^^^^\n",
            "  File \"/content/ultralytics/ultralytics/engine/trainer.py\", line 103, in __init__\n",
            "    self.device = select_device(self.args.device, self.args.batch)\n",
            "                  ^^^^^^^^^^^^^^^^^^^^^^^^^^^^^^^^^^^^^^^^^^^^^^^^\n",
            "  File \"/content/ultralytics/ultralytics/utils/torch_utils.py\", line 192, in select_device\n",
            "    raise ValueError(\n",
            "ValueError: Invalid CUDA 'device=0' requested. Use 'device=cpu' or pass valid CUDA device(s) if available, i.e. 'device=0' or 'device=0,1,2,3' for Multi-GPU.\n",
            "\n",
            "torch.cuda.is_available(): False\n",
            "torch.cuda.device_count(): 0\n",
            "os.environ['CUDA_VISIBLE_DEVICES']: None\n",
            "See https://pytorch.org/get-started/locally/ for up-to-date torch install instructions if no CUDA devices are seen by torch.\n",
            "\n"
          ]
        },
        {
          "output_type": "execute_result",
          "data": {
            "text/plain": [
              "<ExecutionResult object at 7d6dfca0ac90, execution_count=None error_before_exec=None error_in_exec=None info=<ExecutionInfo object at 7d6dfca0a790, raw_cell=\"\n",
              "!yolo task=detect mode=train model=./custom_{mode..\" store_history=False silent=False shell_futures=True cell_id=None> result=None>"
            ]
          },
          "metadata": {},
          "execution_count": 14
        }
      ],
      "source": [
        "%%skip skip_training\n",
        "\n",
        "!yolo task=detect mode=train model=./custom_{model}.yaml data={dataset.location}/data.yaml epochs=20 imgsz={image_size} device=cuda:0 batch = 200\n"
      ]
    },
    {
      "cell_type": "markdown",
      "metadata": {
        "id": "qC3zHGfFpc3T"
      },
      "source": [
        "## Locating trained model"
      ]
    },
    {
      "cell_type": "code",
      "execution_count": 15,
      "metadata": {
        "id": "1vTe--pIpc3T",
        "colab": {
          "base_uri": "https://localhost:8080/"
        },
        "outputId": "5d9f4fb4-e62c-4a0e-d6be-fa5b1007cb7c"
      },
      "outputs": [
        {
          "output_type": "stream",
          "name": "stdout",
          "text": [
            "None\n"
          ]
        }
      ],
      "source": [
        "latest_modified_time = 0\n",
        "latest = None\n",
        "\n",
        "#gets the path of the trained model by going through all of folder, subfolders, and files, and finding the file: best.pt\n",
        "for foldername, subfolders, filenames in os.walk(root_path):\n",
        "    for filename in filenames:\n",
        "        if filename == \"best.pt\":\n",
        "            file_path = os.path.join(foldername, filename)\n",
        "            modified_time = os.path.getmtime(file_path)\n",
        "            if modified_time > latest_modified_time:\n",
        "                latest_modified_time = modified_time\n",
        "                latest = file_path\n",
        "print(latest)"
      ]
    },
    {
      "cell_type": "markdown",
      "metadata": {
        "id": "GI8Wv-kJpc3U"
      },
      "source": [
        "## Model Name\n",
        "\n",
        "If you are using an rknn model with PhotonVision for FRC, your model name should be {name}-{horizontal_resolution}-{vertical_resolution}-{model_type}. Name should NOT have dashes, model_type is yolov11n, yolov11s, yolov11m, etc.\n",
        "\n",
        "Modify the `model_name` variable to match your desired name, DO NOT PUT '.pt or .rknn' in the name\n",
        "\n",
        "If you leave `model_name` equal to **None**, still run the code cell below. The code will automatically generate a name that fits model naming criteria PhotonVision's criteria"
      ]
    },
    {
      "cell_type": "code",
      "execution_count": 16,
      "metadata": {
        "id": "19K6c5nWpc3U"
      },
      "outputs": [],
      "source": [
        "model_name = None"
      ]
    },
    {
      "cell_type": "markdown",
      "metadata": {
        "id": "PZbjpB7bpc3U"
      },
      "source": [
        "## Moving and Renaming Model"
      ]
    },
    {
      "cell_type": "code",
      "execution_count": 17,
      "metadata": {
        "id": "9uzxx-EKpc3V",
        "colab": {
          "base_uri": "https://localhost:8080/"
        },
        "outputId": "cd50bd28-f00a-4775-f569-bf502056908a"
      },
      "outputs": [
        {
          "output_type": "stream",
          "name": "stdout",
          "text": [
            "/content/Crime_Detection_1-448-448-yolov11n.pt\n"
          ]
        },
        {
          "output_type": "execute_result",
          "data": {
            "text/plain": [
              "<ExecutionResult object at 7d6dfc81fe90, execution_count=None error_before_exec=None error_in_exec=None info=<ExecutionInfo object at 7d6dfc81f1d0, raw_cell=\"import os\n",
              "\n",
              "if model_name == None:\n",
              "    dataset_name..\" store_history=False silent=False shell_futures=True cell_id=None> result=None>"
            ]
          },
          "metadata": {},
          "execution_count": 17
        }
      ],
      "source": [
        "%%skip skip_training\n",
        "import os\n",
        "\n",
        "if model_name == None:\n",
        "    dataset_name = dataset.location.replace(f\"{root_path}/ultralytics/\", \"\").replace(\" \", \"_\").replace(\"-\", \"_\")\n",
        "    model_name = f\"{dataset_name}-{image_size}-{image_size}-{model[:4] + 'v' + model[4:]}\" #yolo11n -> yolov11n\n",
        "\n",
        "if latest == None:\n",
        "    latest = f\"{root_path}/{model_name}.pt\"\n",
        "    os.rename(latest, f\"{root_path}/{model_name}.pt\")\n",
        "    latest = f\"{root_path}/{model_name}.pt\"\n",
        "else:\n",
        "    os.rename(latest, f\"{root_path}/{model_name}.pt\")\n",
        "    latest = f\"{root_path}/{model_name}.pt\"\n",
        "print(latest)"
      ]
    },
    {
      "cell_type": "markdown",
      "metadata": {
        "id": "PAEDRaXIpc3V"
      },
      "source": [
        "# Uploading a pre-trained Model\n",
        "\n",
        "If you have already trained a .pt model using the airockchip/ultralytics_yolo11 repo, then on the right panel of kaggle, press upload in the input section and upload your model.\n",
        "\n",
        "Right click on the uploaded model and copy the path, set `src_path` equal to the copied path in the code cell below before running it."
      ]
    },
    {
      "cell_type": "code",
      "execution_count": 18,
      "metadata": {
        "id": "eAiqSnL6pc3V"
      },
      "outputs": [],
      "source": [
        "import shutil\n",
        "\n",
        "src_path = None #r\"/kaggle/input/reefscape-frc-2-yolo11n-200-epochs/pytorch/default/1/Reefscape-FRC-2-640-640-yolo11n.pt\"\n",
        "dst_path = r\"/kaggle/working/\"\n",
        "\n",
        "if src_path != None:\n",
        "    shutil.copy(src_path, dst_path)\n",
        "\n",
        "    model_name = src_path.split(\"/\")\n",
        "    model_name = model_name[len(model_name) - 1]\n",
        "    model_name = model_name[:-3]\n",
        "\n",
        "    latest = f\"{root_path}/{model_name}.pt\""
      ]
    },
    {
      "cell_type": "markdown",
      "metadata": {
        "id": "XpcPGzwApc3W"
      },
      "source": [
        "# Validation\n",
        "\n",
        "Arguments for validation here: https://docs.ultralytics.com/modes/val/#arguments-for-yolo-model-validation"
      ]
    },
    {
      "cell_type": "code",
      "execution_count": 19,
      "metadata": {
        "id": "GMtnWHxUpc3W",
        "colab": {
          "base_uri": "https://localhost:8080/"
        },
        "outputId": "153f9180-5bb5-4b33-d741-bb3df70c9b79"
      },
      "outputs": [
        {
          "output_type": "stream",
          "name": "stdout",
          "text": [
            "Ultralytics 8.3.9 🚀 Python-3.11.12 torch-2.6.0+cu124 \n",
            "Traceback (most recent call last):\n",
            "  File \"/usr/local/bin/yolo\", line 8, in <module>\n",
            "    sys.exit(entrypoint())\n",
            "             ^^^^^^^^^^^^\n",
            "  File \"/content/ultralytics/ultralytics/cfg/__init__.py\", line 832, in entrypoint\n",
            "    getattr(model, mode)(**overrides)  # default args from model\n",
            "    ^^^^^^^^^^^^^^^^^^^^^^^^^^^^^^^^^\n",
            "  File \"/content/ultralytics/ultralytics/engine/model.py\", line 635, in val\n",
            "    validator(model=self.model)\n",
            "  File \"/usr/local/lib/python3.11/dist-packages/torch/utils/_contextlib.py\", line 116, in decorate_context\n",
            "    return func(*args, **kwargs)\n",
            "           ^^^^^^^^^^^^^^^^^^^^^\n",
            "  File \"/content/ultralytics/ultralytics/engine/validator.py\", line 127, in __call__\n",
            "    device=select_device(self.args.device, self.args.batch),\n",
            "           ^^^^^^^^^^^^^^^^^^^^^^^^^^^^^^^^^^^^^^^^^^^^^^^^\n",
            "  File \"/content/ultralytics/ultralytics/utils/torch_utils.py\", line 192, in select_device\n",
            "    raise ValueError(\n",
            "ValueError: Invalid CUDA 'device=0,1' requested. Use 'device=cpu' or pass valid CUDA device(s) if available, i.e. 'device=0' or 'device=0,1,2,3' for Multi-GPU.\n",
            "\n",
            "torch.cuda.is_available(): False\n",
            "torch.cuda.device_count(): 0\n",
            "os.environ['CUDA_VISIBLE_DEVICES']: None\n",
            "See https://pytorch.org/get-started/locally/ for up-to-date torch install instructions if no CUDA devices are seen by torch.\n",
            "\n"
          ]
        }
      ],
      "source": [
        "!yolo task=detect mode=val model={latest} data={dataset.location}/data.yaml device = cuda:0,1 batch = 200"
      ]
    },
    {
      "cell_type": "markdown",
      "metadata": {
        "id": "7rlk0H1upc3X"
      },
      "source": [
        "# RKNN Conversion"
      ]
    },
    {
      "cell_type": "markdown",
      "metadata": {
        "id": "NtT08_q5pc3X"
      },
      "source": [
        "## ONNX Conversion\n",
        "\n",
        "Intermediate step between PyTorch models and RKNN models. ONNX is another type of model. ONNX or Open Neural Network Exchange is used so that models can be used across different frameworks, operating systems, and devices.\n",
        "\n",
        "See the Ultralytics YOLO Docs to learn the [arguments](https://docs.ultralytics.com/modes/export/#arguments) and [export formats](https://docs.ultralytics.com/modes/export/#export-formats) of the export function."
      ]
    },
    {
      "cell_type": "code",
      "execution_count": 20,
      "metadata": {
        "id": "Kjs5mNMEpc3X",
        "colab": {
          "base_uri": "https://localhost:8080/"
        },
        "outputId": "3726e2a4-8550-4073-a0b7-a4fee520d10f"
      },
      "outputs": [
        {
          "output_type": "stream",
          "name": "stdout",
          "text": [
            "/content/ultralytics\n",
            "Requirement already satisfied: onnx in /usr/local/lib/python3.11/dist-packages (1.17.0)\n",
            "Requirement already satisfied: numpy>=1.20 in /usr/local/lib/python3.11/dist-packages (from onnx) (1.26.4)\n",
            "Requirement already satisfied: protobuf>=3.20.2 in /usr/local/lib/python3.11/dist-packages (from onnx) (4.25.4)\n",
            "Ultralytics 8.3.9 🚀 Python-3.11.12 torch-2.6.0+cu124 CPU (Intel Xeon 2.20GHz)\n",
            "custom_YOLO11n summary (fused): 238 layers, 2,582,542 parameters, 0 gradients, 6.3 GFLOPs\n",
            "\n",
            "\u001b[34m\u001b[1mPyTorch:\u001b[0m starting from '/content/Crime_Detection_1-448-448-yolov11n.pt' with input shape (1, 3, 448, 448) BCHW and output shape(s) ((1, 64, 56, 56), (1, 2, 56, 56), (1, 1, 56, 56), (1, 64, 28, 28), (1, 2, 28, 28), (1, 1, 28, 28), (1, 64, 14, 14), (1, 2, 14, 14), (1, 1, 14, 14)) (5.2 MB)\n",
            "\n",
            "\u001b[34m\u001b[1mRKNN:\u001b[0m starting export with torch 2.6.0+cu124...\n",
            "\n",
            "\u001b[34m\u001b[1mRKNN:\u001b[0m feed /content/Crime_Detection_1-448-448-yolov11n.onnx to RKNN-Toolkit or RKNN-Toolkit2 to generate RKNN model.\n",
            "Refer https://github.com/airockchip/rknn_model_zoo/tree/main/examples/\n",
            "\u001b[34m\u001b[1mRKNN:\u001b[0m export success ✅ 1.3s, saved as '/content/Crime_Detection_1-448-448-yolov11n.onnx' (9.9 MB)\n",
            "\n",
            "Export complete (1.8s)\n",
            "Results saved to \u001b[1m/content\u001b[0m\n",
            "Predict:         yolo predict task=detect model=/content/Crime_Detection_1-448-448-yolov11n.onnx imgsz=448  \n",
            "Validate:        yolo val task=detect model=/content/Crime_Detection_1-448-448-yolov11n.onnx imgsz=448 data=/content/ultralytics/Crime-Detection-1/data.yaml  \n",
            "Visualize:       https://netron.app\n",
            "💡 Learn more at https://docs.ultralytics.com/modes/export\n"
          ]
        }
      ],
      "source": [
        "#exports a differently formatted model\n",
        "%cd {root_path}/ultralytics\n",
        "!pip install onnx\n",
        "!yolo mode=export format=rknn model={latest}\n"
      ]
    },
    {
      "cell_type": "code",
      "execution_count": 21,
      "metadata": {
        "id": "VZVymsJhpc3Y",
        "colab": {
          "base_uri": "https://localhost:8080/"
        },
        "outputId": "1e35d756-3c6c-443d-af25-607ad339a0a9"
      },
      "outputs": [
        {
          "output_type": "stream",
          "name": "stdout",
          "text": [
            "/content/Crime_Detection_1-448-448-yolov11n.onnx\n"
          ]
        }
      ],
      "source": [
        "#gets the path of the new onnx model, which is the same as the previous model, best.pt. The new model is called best.onnx\n",
        "ex_path = '.'.join(latest.split('.')[:-1]) + '.onnx'\n",
        "print(ex_path)"
      ]
    },
    {
      "cell_type": "markdown",
      "metadata": {
        "id": "mqO5Cdkgpc3Y"
      },
      "source": [
        "## Installing RKNN Toolkit\n",
        "This is the 3rd party toolkit that allows us to convert YOLO11 models from official ultralytics formats to the RKNN format that's used by\n",
        "Rockchips.\n",
        "\n",
        "Check the [RKNN Toolkit 2 ReadMe](https://github.com/rockchip-linux/rknn-toolkit2/blob/master/README.md) to see if it can support your NPU's platform. For example, the RKNN Toolkit 2 can support an Orange Pi 5's NPU Platform: RK3588."
      ]
    },
    {
      "cell_type": "code",
      "execution_count": 22,
      "metadata": {
        "id": "rZ_hXxZrpc3Y",
        "colab": {
          "base_uri": "https://localhost:8080/",
          "height": 1000
        },
        "outputId": "744ef8dc-1095-4d0a-a77f-9772cf927eea"
      },
      "outputs": [
        {
          "output_type": "stream",
          "name": "stdout",
          "text": [
            "--2025-04-17 21:51:03--  https://github.com/airockchip/rknn-toolkit2/raw/refs/heads/master/rknn-toolkit2/packages/x86_64/rknn_toolkit2-2.3.2-cp311-cp311-manylinux_2_17_x86_64.manylinux2014_x86_64.whl\n",
            "Resolving github.com (github.com)... 140.82.114.3\n",
            "Connecting to github.com (github.com)|140.82.114.3|:443... connected.\n",
            "HTTP request sent, awaiting response... 302 Found\n",
            "Location: https://raw.githubusercontent.com/airockchip/rknn-toolkit2/refs/heads/master/rknn-toolkit2/packages/x86_64/rknn_toolkit2-2.3.2-cp311-cp311-manylinux_2_17_x86_64.manylinux2014_x86_64.whl [following]\n",
            "--2025-04-17 21:51:04--  https://raw.githubusercontent.com/airockchip/rknn-toolkit2/refs/heads/master/rknn-toolkit2/packages/x86_64/rknn_toolkit2-2.3.2-cp311-cp311-manylinux_2_17_x86_64.manylinux2014_x86_64.whl\n",
            "Resolving raw.githubusercontent.com (raw.githubusercontent.com)... 185.199.108.133, 185.199.109.133, 185.199.110.133, ...\n",
            "Connecting to raw.githubusercontent.com (raw.githubusercontent.com)|185.199.108.133|:443... connected.\n",
            "HTTP request sent, awaiting response... 200 OK\n",
            "Length: 39531247 (38M) [application/octet-stream]\n",
            "Saving to: ‘rknn_toolkit2-2.3.2-cp311-cp311-manylinux_2_17_x86_64.manylinux2014_x86_64.whl.1’\n",
            "\n",
            "rknn_toolkit2-2.3.2 100%[===================>]  37.70M   185MB/s    in 0.2s    \n",
            "\n",
            "2025-04-17 21:51:04 (185 MB/s) - ‘rknn_toolkit2-2.3.2-cp311-cp311-manylinux_2_17_x86_64.manylinux2014_x86_64.whl.1’ saved [39531247/39531247]\n",
            "\n",
            "Processing ./rknn_toolkit2-2.3.2-cp311-cp311-manylinux_2_17_x86_64.manylinux2014_x86_64.whl\n",
            "Requirement already satisfied: protobuf<=4.25.4,>=4.21.6 in /usr/local/lib/python3.11/dist-packages (from rknn-toolkit2==2.3.2) (4.25.4)\n",
            "Requirement already satisfied: psutil>=5.9.0 in /usr/local/lib/python3.11/dist-packages (from rknn-toolkit2==2.3.2) (5.9.5)\n",
            "Requirement already satisfied: ruamel.yaml>=0.17.21 in /usr/local/lib/python3.11/dist-packages (from rknn-toolkit2==2.3.2) (0.18.10)\n",
            "Requirement already satisfied: scipy>=1.9.3 in /usr/local/lib/python3.11/dist-packages (from rknn-toolkit2==2.3.2) (1.14.1)\n",
            "Requirement already satisfied: tqdm>=4.64.1 in /usr/local/lib/python3.11/dist-packages (from rknn-toolkit2==2.3.2) (4.67.1)\n",
            "Requirement already satisfied: opencv-python>=4.5.5.64 in /usr/local/lib/python3.11/dist-packages (from rknn-toolkit2==2.3.2) (4.11.0.86)\n",
            "Requirement already satisfied: fast-histogram>=0.11 in /usr/local/lib/python3.11/dist-packages (from rknn-toolkit2==2.3.2) (0.14)\n",
            "Requirement already satisfied: numpy<=1.26.4 in /usr/local/lib/python3.11/dist-packages (from rknn-toolkit2==2.3.2) (1.26.4)\n",
            "Requirement already satisfied: onnx>=1.16.1 in /usr/local/lib/python3.11/dist-packages (from rknn-toolkit2==2.3.2) (1.17.0)\n",
            "Requirement already satisfied: onnxruntime>=1.10.0 in /usr/local/lib/python3.11/dist-packages (from rknn-toolkit2==2.3.2) (1.21.0)\n",
            "Collecting torch<=2.4.0,>=1.10.1 (from rknn-toolkit2==2.3.2)\n",
            "  Using cached torch-2.4.0-cp311-cp311-manylinux1_x86_64.whl.metadata (26 kB)\n",
            "Requirement already satisfied: coloredlogs in /usr/local/lib/python3.11/dist-packages (from onnxruntime>=1.10.0->rknn-toolkit2==2.3.2) (15.0.1)\n",
            "Requirement already satisfied: flatbuffers in /usr/local/lib/python3.11/dist-packages (from onnxruntime>=1.10.0->rknn-toolkit2==2.3.2) (25.2.10)\n",
            "Requirement already satisfied: packaging in /usr/local/lib/python3.11/dist-packages (from onnxruntime>=1.10.0->rknn-toolkit2==2.3.2) (24.2)\n",
            "Requirement already satisfied: sympy in /usr/local/lib/python3.11/dist-packages (from onnxruntime>=1.10.0->rknn-toolkit2==2.3.2) (1.13.1)\n",
            "Requirement already satisfied: ruamel.yaml.clib>=0.2.7 in /usr/local/lib/python3.11/dist-packages (from ruamel.yaml>=0.17.21->rknn-toolkit2==2.3.2) (0.2.12)\n",
            "Requirement already satisfied: filelock in /usr/local/lib/python3.11/dist-packages (from torch<=2.4.0,>=1.10.1->rknn-toolkit2==2.3.2) (3.18.0)\n",
            "Requirement already satisfied: typing-extensions>=4.8.0 in /usr/local/lib/python3.11/dist-packages (from torch<=2.4.0,>=1.10.1->rknn-toolkit2==2.3.2) (4.13.1)\n",
            "Requirement already satisfied: networkx in /usr/local/lib/python3.11/dist-packages (from torch<=2.4.0,>=1.10.1->rknn-toolkit2==2.3.2) (3.4.2)\n",
            "Requirement already satisfied: jinja2 in /usr/local/lib/python3.11/dist-packages (from torch<=2.4.0,>=1.10.1->rknn-toolkit2==2.3.2) (3.1.6)\n",
            "Requirement already satisfied: fsspec in /usr/local/lib/python3.11/dist-packages (from torch<=2.4.0,>=1.10.1->rknn-toolkit2==2.3.2) (2025.3.2)\n",
            "Collecting nvidia-cuda-nvrtc-cu12==12.1.105 (from torch<=2.4.0,>=1.10.1->rknn-toolkit2==2.3.2)\n",
            "  Using cached nvidia_cuda_nvrtc_cu12-12.1.105-py3-none-manylinux1_x86_64.whl.metadata (1.5 kB)\n",
            "Collecting nvidia-cuda-runtime-cu12==12.1.105 (from torch<=2.4.0,>=1.10.1->rknn-toolkit2==2.3.2)\n",
            "  Using cached nvidia_cuda_runtime_cu12-12.1.105-py3-none-manylinux1_x86_64.whl.metadata (1.5 kB)\n",
            "Collecting nvidia-cuda-cupti-cu12==12.1.105 (from torch<=2.4.0,>=1.10.1->rknn-toolkit2==2.3.2)\n",
            "  Using cached nvidia_cuda_cupti_cu12-12.1.105-py3-none-manylinux1_x86_64.whl.metadata (1.6 kB)\n",
            "Requirement already satisfied: nvidia-cudnn-cu12==9.1.0.70 in /usr/local/lib/python3.11/dist-packages (from torch<=2.4.0,>=1.10.1->rknn-toolkit2==2.3.2) (9.1.0.70)\n",
            "Collecting nvidia-cublas-cu12==12.1.3.1 (from torch<=2.4.0,>=1.10.1->rknn-toolkit2==2.3.2)\n",
            "  Using cached nvidia_cublas_cu12-12.1.3.1-py3-none-manylinux1_x86_64.whl.metadata (1.5 kB)\n",
            "Collecting nvidia-cufft-cu12==11.0.2.54 (from torch<=2.4.0,>=1.10.1->rknn-toolkit2==2.3.2)\n",
            "  Using cached nvidia_cufft_cu12-11.0.2.54-py3-none-manylinux1_x86_64.whl.metadata (1.5 kB)\n",
            "Collecting nvidia-curand-cu12==10.3.2.106 (from torch<=2.4.0,>=1.10.1->rknn-toolkit2==2.3.2)\n",
            "  Using cached nvidia_curand_cu12-10.3.2.106-py3-none-manylinux1_x86_64.whl.metadata (1.5 kB)\n",
            "Collecting nvidia-cusolver-cu12==11.4.5.107 (from torch<=2.4.0,>=1.10.1->rknn-toolkit2==2.3.2)\n",
            "  Using cached nvidia_cusolver_cu12-11.4.5.107-py3-none-manylinux1_x86_64.whl.metadata (1.6 kB)\n",
            "Collecting nvidia-cusparse-cu12==12.1.0.106 (from torch<=2.4.0,>=1.10.1->rknn-toolkit2==2.3.2)\n",
            "  Using cached nvidia_cusparse_cu12-12.1.0.106-py3-none-manylinux1_x86_64.whl.metadata (1.6 kB)\n",
            "Collecting nvidia-nccl-cu12==2.20.5 (from torch<=2.4.0,>=1.10.1->rknn-toolkit2==2.3.2)\n",
            "  Using cached nvidia_nccl_cu12-2.20.5-py3-none-manylinux2014_x86_64.whl.metadata (1.8 kB)\n",
            "Collecting nvidia-nvtx-cu12==12.1.105 (from torch<=2.4.0,>=1.10.1->rknn-toolkit2==2.3.2)\n",
            "  Using cached nvidia_nvtx_cu12-12.1.105-py3-none-manylinux1_x86_64.whl.metadata (1.7 kB)\n",
            "Collecting triton==3.0.0 (from torch<=2.4.0,>=1.10.1->rknn-toolkit2==2.3.2)\n",
            "  Using cached triton-3.0.0-1-cp311-cp311-manylinux2014_x86_64.manylinux_2_17_x86_64.whl.metadata (1.3 kB)\n",
            "Requirement already satisfied: nvidia-nvjitlink-cu12 in /usr/local/lib/python3.11/dist-packages (from nvidia-cusolver-cu12==11.4.5.107->torch<=2.4.0,>=1.10.1->rknn-toolkit2==2.3.2) (12.4.127)\n",
            "Requirement already satisfied: humanfriendly>=9.1 in /usr/local/lib/python3.11/dist-packages (from coloredlogs->onnxruntime>=1.10.0->rknn-toolkit2==2.3.2) (10.0)\n",
            "Requirement already satisfied: MarkupSafe>=2.0 in /usr/local/lib/python3.11/dist-packages (from jinja2->torch<=2.4.0,>=1.10.1->rknn-toolkit2==2.3.2) (3.0.2)\n",
            "Requirement already satisfied: mpmath<1.4,>=1.1.0 in /usr/local/lib/python3.11/dist-packages (from sympy->onnxruntime>=1.10.0->rknn-toolkit2==2.3.2) (1.3.0)\n",
            "rknn-toolkit2 is already installed with the same version as the provided wheel. Use --force-reinstall to force an installation of the wheel.\n",
            "Using cached torch-2.4.0-cp311-cp311-manylinux1_x86_64.whl (797.3 MB)\n",
            "Using cached nvidia_cublas_cu12-12.1.3.1-py3-none-manylinux1_x86_64.whl (410.6 MB)\n",
            "Using cached nvidia_cuda_cupti_cu12-12.1.105-py3-none-manylinux1_x86_64.whl (14.1 MB)\n",
            "Using cached nvidia_cuda_nvrtc_cu12-12.1.105-py3-none-manylinux1_x86_64.whl (23.7 MB)\n",
            "Using cached nvidia_cuda_runtime_cu12-12.1.105-py3-none-manylinux1_x86_64.whl (823 kB)\n",
            "Using cached nvidia_cufft_cu12-11.0.2.54-py3-none-manylinux1_x86_64.whl (121.6 MB)\n",
            "Using cached nvidia_curand_cu12-10.3.2.106-py3-none-manylinux1_x86_64.whl (56.5 MB)\n",
            "Using cached nvidia_cusolver_cu12-11.4.5.107-py3-none-manylinux1_x86_64.whl (124.2 MB)\n",
            "Using cached nvidia_cusparse_cu12-12.1.0.106-py3-none-manylinux1_x86_64.whl (196.0 MB)\n",
            "Using cached nvidia_nccl_cu12-2.20.5-py3-none-manylinux2014_x86_64.whl (176.2 MB)\n",
            "Using cached nvidia_nvtx_cu12-12.1.105-py3-none-manylinux1_x86_64.whl (99 kB)\n",
            "Using cached triton-3.0.0-1-cp311-cp311-manylinux2014_x86_64.manylinux_2_17_x86_64.whl (209.4 MB)\n",
            "Installing collected packages: triton, nvidia-nvtx-cu12, nvidia-nccl-cu12, nvidia-cusparse-cu12, nvidia-curand-cu12, nvidia-cufft-cu12, nvidia-cuda-runtime-cu12, nvidia-cuda-nvrtc-cu12, nvidia-cuda-cupti-cu12, nvidia-cublas-cu12, nvidia-cusolver-cu12, torch\n",
            "  Attempting uninstall: triton\n",
            "    Found existing installation: triton 3.2.0\n",
            "    Uninstalling triton-3.2.0:\n",
            "      Successfully uninstalled triton-3.2.0\n",
            "  Attempting uninstall: nvidia-nvtx-cu12\n",
            "    Found existing installation: nvidia-nvtx-cu12 12.4.127\n",
            "    Uninstalling nvidia-nvtx-cu12-12.4.127:\n",
            "      Successfully uninstalled nvidia-nvtx-cu12-12.4.127\n",
            "  Attempting uninstall: nvidia-nccl-cu12\n",
            "    Found existing installation: nvidia-nccl-cu12 2.21.5\n",
            "    Uninstalling nvidia-nccl-cu12-2.21.5:\n",
            "      Successfully uninstalled nvidia-nccl-cu12-2.21.5\n",
            "  Attempting uninstall: nvidia-cusparse-cu12\n",
            "    Found existing installation: nvidia-cusparse-cu12 12.3.1.170\n",
            "    Uninstalling nvidia-cusparse-cu12-12.3.1.170:\n",
            "      Successfully uninstalled nvidia-cusparse-cu12-12.3.1.170\n",
            "  Attempting uninstall: nvidia-curand-cu12\n",
            "    Found existing installation: nvidia-curand-cu12 10.3.5.147\n",
            "    Uninstalling nvidia-curand-cu12-10.3.5.147:\n",
            "      Successfully uninstalled nvidia-curand-cu12-10.3.5.147\n",
            "  Attempting uninstall: nvidia-cufft-cu12\n",
            "    Found existing installation: nvidia-cufft-cu12 11.2.1.3\n",
            "    Uninstalling nvidia-cufft-cu12-11.2.1.3:\n",
            "      Successfully uninstalled nvidia-cufft-cu12-11.2.1.3\n",
            "  Attempting uninstall: nvidia-cuda-runtime-cu12\n",
            "    Found existing installation: nvidia-cuda-runtime-cu12 12.4.127\n",
            "    Uninstalling nvidia-cuda-runtime-cu12-12.4.127:\n",
            "      Successfully uninstalled nvidia-cuda-runtime-cu12-12.4.127\n",
            "  Attempting uninstall: nvidia-cuda-nvrtc-cu12\n",
            "    Found existing installation: nvidia-cuda-nvrtc-cu12 12.4.127\n",
            "    Uninstalling nvidia-cuda-nvrtc-cu12-12.4.127:\n",
            "      Successfully uninstalled nvidia-cuda-nvrtc-cu12-12.4.127\n",
            "  Attempting uninstall: nvidia-cuda-cupti-cu12\n",
            "    Found existing installation: nvidia-cuda-cupti-cu12 12.4.127\n",
            "    Uninstalling nvidia-cuda-cupti-cu12-12.4.127:\n",
            "      Successfully uninstalled nvidia-cuda-cupti-cu12-12.4.127\n",
            "  Attempting uninstall: nvidia-cublas-cu12\n",
            "    Found existing installation: nvidia-cublas-cu12 12.4.5.8\n",
            "    Uninstalling nvidia-cublas-cu12-12.4.5.8:\n",
            "      Successfully uninstalled nvidia-cublas-cu12-12.4.5.8\n",
            "  Attempting uninstall: nvidia-cusolver-cu12\n",
            "    Found existing installation: nvidia-cusolver-cu12 11.6.1.9\n",
            "    Uninstalling nvidia-cusolver-cu12-11.6.1.9:\n",
            "      Successfully uninstalled nvidia-cusolver-cu12-11.6.1.9\n",
            "  Attempting uninstall: torch\n",
            "    Found existing installation: torch 2.6.0\n",
            "    Uninstalling torch-2.6.0:\n",
            "      Successfully uninstalled torch-2.6.0\n",
            "\u001b[31mERROR: pip's dependency resolver does not currently take into account all the packages that are installed. This behaviour is the source of the following dependency conflicts.\n",
            "torchvision 0.21.0+cu124 requires torch==2.6.0, but you have torch 2.4.0 which is incompatible.\n",
            "torchaudio 2.6.0+cu124 requires torch==2.6.0, but you have torch 2.4.0 which is incompatible.\u001b[0m\u001b[31m\n",
            "\u001b[0mSuccessfully installed nvidia-cublas-cu12-12.1.3.1 nvidia-cuda-cupti-cu12-12.1.105 nvidia-cuda-nvrtc-cu12-12.1.105 nvidia-cuda-runtime-cu12-12.1.105 nvidia-cufft-cu12-11.0.2.54 nvidia-curand-cu12-10.3.2.106 nvidia-cusolver-cu12-11.4.5.107 nvidia-cusparse-cu12-12.1.0.106 nvidia-nccl-cu12-2.20.5 nvidia-nvtx-cu12-12.1.105 torch-2.4.0 triton-3.0.0\n"
          ]
        },
        {
          "output_type": "display_data",
          "data": {
            "application/vnd.colab-display-data+json": {
              "pip_warning": {
                "packages": [
                  "torch",
                  "torchgen"
                ]
              },
              "id": "b6866cbacc714f9bb043022fb47bc930"
            }
          },
          "metadata": {}
        },
        {
          "output_type": "stream",
          "name": "stdout",
          "text": [
            "/content\n"
          ]
        }
      ],
      "source": [
        "!wget https://github.com/airockchip/rknn-toolkit2/raw/refs/heads/master/rknn-toolkit2/packages/x86_64/rknn_toolkit2-2.3.2-cp311-cp311-manylinux_2_17_x86_64.manylinux2014_x86_64.whl\n",
        "!pip install ./rknn_toolkit2-2.3.2-cp311-cp311-manylinux_2_17_x86_64.manylinux2014_x86_64.whl\n",
        "\n",
        "%cd {root_path}"
      ]
    },
    {
      "cell_type": "markdown",
      "metadata": {
        "id": "iwMBhGW9pc3Z"
      },
      "source": [
        "## Setting Up RKNN Model Zoo 🦓"
      ]
    },
    {
      "cell_type": "code",
      "execution_count": 23,
      "metadata": {
        "id": "QH9xfNfopc3Z",
        "colab": {
          "base_uri": "https://localhost:8080/"
        },
        "outputId": "7555368d-0bc0-447d-f01b-583a39bc12b7"
      },
      "outputs": [
        {
          "output_type": "stream",
          "name": "stdout",
          "text": [
            "/content\n",
            "fatal: destination path 'rknn_model_zoo' already exists and is not an empty directory.\n",
            "/content/rknn_model_zoo\n",
            "/content/rknn_model_zoo/examples/yolo11/python\n"
          ]
        }
      ],
      "source": [
        "%cd {root_path}\n",
        "!git clone https://github.com/airockchip/rknn_model_zoo/\n",
        "%cd rknn_model_zoo\n",
        "%cd examples/yolo11/python"
      ]
    },
    {
      "cell_type": "code",
      "execution_count": 24,
      "metadata": {
        "id": "LWU9vMiepc3i",
        "colab": {
          "base_uri": "https://localhost:8080/"
        },
        "outputId": "b228b184-1023-4244-ef37-5cbe8cee5e3f"
      },
      "outputs": [
        {
          "output_type": "stream",
          "name": "stdout",
          "text": [
            "Overwriting imgs.txt\n"
          ]
        }
      ],
      "source": [
        "%%writefile imgs.txt\n",
        "imgs/1.jpg\n",
        "imgs/2.jpg\n",
        "imgs/3.jpg\n",
        "imgs/4.jpg\n",
        "imgs/5.jpg\n",
        "imgs/6.jpg\n",
        "imgs/7.jpg\n",
        "imgs/8.jpg\n",
        "imgs/9.jpg\n",
        "imgs/10.jpg\n",
        "imgs/11.jpg\n",
        "imgs/12.jpg\n",
        "imgs/13.jpg\n",
        "imgs/14.jpg\n",
        "imgs/15.jpg\n",
        "imgs/16.jpg\n",
        "imgs/17.jpg\n",
        "imgs/18.jpg\n",
        "imgs/19.jpg\n",
        "imgs/20.jpg"
      ]
    },
    {
      "cell_type": "code",
      "execution_count": 25,
      "metadata": {
        "id": "EMEQ9VABpc3j",
        "colab": {
          "base_uri": "https://localhost:8080/"
        },
        "outputId": "07bbbfd8-c990-4a60-acac-f35ab83037f8"
      },
      "outputs": [
        {
          "output_type": "stream",
          "name": "stdout",
          "text": [
            "20 random images copied from '/content/ultralytics/Crime-Detection-1/test/images' to 'imgs' and renamed.\n"
          ]
        }
      ],
      "source": [
        "import os\n",
        "import shutil\n",
        "import random\n",
        "import glob\n",
        "\n",
        "def copy_and_rename_images(source_folder, destination_folder, n):\n",
        "    if not os.path.exists(source_folder):\n",
        "        print(f\"Source folder '{source_folder}' does not exist.\")\n",
        "        return\n",
        "    if not os.path.exists(destination_folder):\n",
        "        os.makedirs(destination_folder)\n",
        "    image_files = glob.glob(os.path.join(source_folder, '*.jpg'))\n",
        "    selected_images = random.sample(image_files, min(n, len(image_files)))\n",
        "    for i, image_path in enumerate(selected_images, start=1):\n",
        "        destination_path = os.path.join(destination_folder, f'{i}.jpg')\n",
        "        shutil.copy(image_path, destination_path)\n",
        "    print(f\"{min(n, len(image_files))} random images copied from '{source_folder}' to '{destination_folder}' and renamed.\")\n",
        "#putting images from dataset into imgs file\n",
        "copy_and_rename_images(dataset.location+\"/test/images\" , \"imgs\", 20)"
      ]
    },
    {
      "cell_type": "code",
      "execution_count": 26,
      "metadata": {
        "id": "t1vAfw5Opc3k"
      },
      "outputs": [],
      "source": [
        "#Goes to the file in line. Everything else in the cell is a list[] of 2 element tuples()\n",
        "@register_line_cell_magic\n",
        "def replaceAllInFile(line, cell):\n",
        "    filename = line.strip()\n",
        "    replacements = eval(cell)  # Assuming input is a valid Python expression\n",
        "    with open(filename, 'r') as f:\n",
        "        file_content = f.read()\n",
        "    for replaced, with_this in replacements: #for every tuple in the list, takes the first element of the tuple in the file, and replaces it with the second element of the tuple\n",
        "        file_content = re.sub(replaced, with_this, file_content)\n",
        "    with open(filename, 'w') as f:\n",
        "        f.write(file_content)\n",
        "    print(f\"Replaced successfully in {filename}\")"
      ]
    },
    {
      "cell_type": "code",
      "execution_count": 27,
      "metadata": {
        "id": "suOvs3e0pc3l",
        "colab": {
          "base_uri": "https://localhost:8080/"
        },
        "outputId": "8f4ec9fe-5502-40a4-c15f-98d56b6286ba"
      },
      "outputs": [
        {
          "output_type": "stream",
          "name": "stdout",
          "text": [
            "Replaced successfully in /content/rknn_model_zoo/examples/yolo11/python/convert.py\n"
          ]
        }
      ],
      "source": [
        "%%replaceAllInFile {root_path}/rknn_model_zoo/examples/yolo11/python/convert.py\n",
        "[\n",
        "    ('../../../datasets/COCO/coco_subset_20.txt', 'imgs.txt'),\n",
        "]"
      ]
    },
    {
      "cell_type": "markdown",
      "metadata": {
        "id": "LALAu_KCpc3l"
      },
      "source": [
        "## Quantization\n",
        "\n",
        "Here you choose whether to perform quantization, which makes the model lighter and faster, by converting all 32/16 bit floates in the model into 8 bit ints, which costs performance."
      ]
    },
    {
      "cell_type": "code",
      "execution_count": 28,
      "metadata": {
        "id": "XLHh-P2gpc3m"
      },
      "outputs": [],
      "source": [
        "to_quantize = True"
      ]
    },
    {
      "cell_type": "markdown",
      "metadata": {
        "id": "L6upZNXUpc3m"
      },
      "source": [
        "## Exporting to RKNN\n",
        "### You did it!!!! 👏\n",
        "Find the new model which ends in .rknn in the file directories and download it to your laptop. You now possess your own YOLO11 model that can run on an Orange Pi 5.\n",
        "\n",
        "`!python convert.py <ONNX Model> <platform> *optional<dtype> *optional<output_model_path>`\n",
        "\n",
        "* `<onnx_model>`: Specify ONNX model path.\n",
        "* `<TARGET_PLATFORM>`: Specify NPU platform name.\n",
        "  * Platforms: RK3566 | RK3568 | RK3588 | RK3562 | RK3576 | RV1103 | RV1106 | RK1808 | RK3399PRO | RV1109 | RV1126\n",
        "* `<dtype>`: i8/u8 for quantization, fp for no quantization. Default is i8/u8.\n",
        "* `<output_rknn_path>`: Specify save path for the RKNN model, default save in the same directory as ONNX model with name yolo11.rknn"
      ]
    },
    {
      "cell_type": "code",
      "execution_count": 29,
      "metadata": {
        "id": "46-ECuPrpc3n",
        "colab": {
          "base_uri": "https://localhost:8080/"
        },
        "outputId": "8e3e5b09-d516-4d93-efb4-505d2cb94970"
      },
      "outputs": [
        {
          "output_type": "stream",
          "name": "stdout",
          "text": [
            "/content/rknn_model_zoo/examples/yolo11/python\n",
            "RKNN model name: Crime_Detection_1-448-448-yolov11n.rknn\n",
            "I rknn-toolkit2 version: 2.3.2\n",
            "--> Config model\n",
            "done\n",
            "--> Loading model\n",
            "I Loading : 100%|██████████████████████████████████████████████| 174/174 [00:00<00:00, 14969.21it/s]\n",
            "done\n",
            "--> Building model\n",
            "I OpFusing 0: 100%|██████████████████████████████████████████████| 100/100 [00:00<00:00, 240.89it/s]\n",
            "I OpFusing 1 : 100%|██████████████████████████████████████████████| 100/100 [00:01<00:00, 95.50it/s]\n",
            "I OpFusing 0 : 100%|██████████████████████████████████████████████| 100/100 [00:02<00:00, 47.53it/s]\n",
            "I OpFusing 1 : 100%|██████████████████████████████████████████████| 100/100 [00:02<00:00, 44.02it/s]\n",
            "I OpFusing 2 : 100%|██████████████████████████████████████████████| 100/100 [00:03<00:00, 30.02it/s]\n",
            "I GraphPreparing : 100%|████████████████████████████████████████| 223/223 [00:00<00:00, 6729.48it/s]\n",
            "I Quantizating : 100%|████████████████████████████████████████████| 223/223 [00:05<00:00, 39.43it/s]\n",
            "\u001b[1;33mW\u001b[0m \u001b[1;33mbuild: The default input dtype of 'images' is changed from 'float32' to 'int8' in rknn model for performance!\n",
            "                       Please take care of this change when deploy rknn model with Runtime API!\u001b[0m\n",
            "\u001b[1;33mW\u001b[0m \u001b[1;33mbuild: The default output dtype of '462' is changed from 'float32' to 'int8' in rknn model for performance!\n",
            "                      Please take care of this change when deploy rknn model with Runtime API!\u001b[0m\n",
            "\u001b[1;33mW\u001b[0m \u001b[1;33mbuild: The default output dtype of 'onnx::ReduceSum_476' is changed from 'float32' to 'int8' in rknn model for performance!\n",
            "                      Please take care of this change when deploy rknn model with Runtime API!\u001b[0m\n",
            "\u001b[1;33mW\u001b[0m \u001b[1;33mbuild: The default output dtype of '480' is changed from 'float32' to 'int8' in rknn model for performance!\n",
            "                      Please take care of this change when deploy rknn model with Runtime API!\u001b[0m\n",
            "\u001b[1;33mW\u001b[0m \u001b[1;33mbuild: The default output dtype of '487' is changed from 'float32' to 'int8' in rknn model for performance!\n",
            "                      Please take care of this change when deploy rknn model with Runtime API!\u001b[0m\n",
            "\u001b[1;33mW\u001b[0m \u001b[1;33mbuild: The default output dtype of 'onnx::ReduceSum_501' is changed from 'float32' to 'int8' in rknn model for performance!\n",
            "                      Please take care of this change when deploy rknn model with Runtime API!\u001b[0m\n",
            "\u001b[1;33mW\u001b[0m \u001b[1;33mbuild: The default output dtype of '505' is changed from 'float32' to 'int8' in rknn model for performance!\n",
            "                      Please take care of this change when deploy rknn model with Runtime API!\u001b[0m\n",
            "\u001b[1;33mW\u001b[0m \u001b[1;33mbuild: The default output dtype of '512' is changed from 'float32' to 'int8' in rknn model for performance!\n",
            "                      Please take care of this change when deploy rknn model with Runtime API!\u001b[0m\n",
            "\u001b[1;33mW\u001b[0m \u001b[1;33mbuild: The default output dtype of 'onnx::ReduceSum_526' is changed from 'float32' to 'int8' in rknn model for performance!\n",
            "                      Please take care of this change when deploy rknn model with Runtime API!\u001b[0m\n",
            "\u001b[1;33mW\u001b[0m \u001b[1;33mbuild: The default output dtype of '530' is changed from 'float32' to 'int8' in rknn model for performance!\n",
            "                      Please take care of this change when deploy rknn model with Runtime API!\u001b[0m\n",
            "I rknn building ...\n",
            "I rknn building done.\n",
            "done\n",
            "--> Export rknn model\n",
            "done\n"
          ]
        }
      ],
      "source": [
        "%cd {root_path}/rknn_model_zoo/examples/yolo11/python\n",
        "quant_code = \"i8\" if to_quantize else \"fp\"\n",
        "image_size = 640\n",
        "\n",
        "#path of outputted rknn model as a string variable\n",
        "output_model = f\"{root_path}/{model_name}.rknn\"\n",
        "print(f\"RKNN model name: {model_name}.rknn\")\n",
        "\n",
        "!python convert.py {ex_path} rk3588 {quant_code} {output_model}"
      ]
    },
    {
      "cell_type": "markdown",
      "metadata": {
        "id": "szCaAIwEpc3o"
      },
      "source": [
        "# Deploying Code on PhotonVision for FRC\n",
        "\n",
        "Only works with an Orange Pi 5. Flash a micro SD card with an PhotonVision Orange Pi image using a software like Balena Etcher. Place the micro SD card in the Pi before powering it up. Connect the Pi to your robot's radio using ethernet. Then connect to your robot's radio and type in photonvision.local:5800 in the URL of your search engine."
      ]
    },
    {
      "cell_type": "markdown",
      "metadata": {
        "id": "vB5nNTX5pc3o"
      },
      "source": [
        "### Official PhotonVision release\n",
        "\n",
        "[PhotonVision Docs](https://docs.photonvision.org/en/latest/)\n",
        "\n",
        "Run the code cells below to output a labels.txt file which is needed when uploading your own custom model. You can use PhotonVision's UI to upload your .rknn model and labels.txt file"
      ]
    },
    {
      "cell_type": "code",
      "execution_count": 30,
      "metadata": {
        "id": "iTGXuXZlpc3p",
        "colab": {
          "base_uri": "https://localhost:8080/"
        },
        "outputId": "0c0de977-0f96-4736-899f-d5f2bf4042e4"
      },
      "outputs": [
        {
          "output_type": "stream",
          "name": "stdout",
          "text": [
            "/content\n",
            "Successfully created Crime_Detection_1-448-448-yolov11n-labels.txt\n"
          ]
        }
      ],
      "source": [
        "%cd {root_path}\n",
        "\n",
        "labels_file = f\"{model_name}-labels.txt\"\n",
        "\n",
        "import yaml\n",
        "\n",
        "with open(dataset.location + \"/data.yaml\", 'r') as stream:\n",
        "    data = yaml.safe_load(stream)\n",
        "    with open(f\"{root_path}/{labels_file}\", \"w\") as file:\n",
        "        for index, label in enumerate(data['names']):\n",
        "            if index == len(data['names']) - 1:\n",
        "                file.write(f\"{label}\")\n",
        "            else:\n",
        "                file.write(f\"{label}\\n\")\n",
        "\n",
        "print(f\"Successfully created {labels_file}\")"
      ]
    },
    {
      "cell_type": "markdown",
      "metadata": {
        "id": "zXjDga3_pc3p"
      },
      "source": [
        "### RKNN Fork\n",
        "\n",
        "PhotonVision RKNN Fork Setup Instructions here: https://github.com/laviRZ/photonvision/blob/master/rknn-readme.md."
      ]
    },
    {
      "cell_type": "markdown",
      "metadata": {
        "id": "JhG6tPJnpc3q"
      },
      "source": [
        "# YOLO11 Inference\n"
      ]
    },
    {
      "cell_type": "markdown",
      "source": [
        "![frogforce503_logo_2.png](https://frogforce503.org/FFmods/img/frogforce503_logo_2.png)\n",
        "\n",
        "https://www.kaggle.com/code/vrishabmakam/frog-force-503-yolo11-inference/notebook\n"
      ],
      "metadata": {
        "id": "_YwEK70QSZn3"
      }
    },
    {
      "cell_type": "code",
      "source": [
        "model_path = f\"{root_path}/{model_name}.pt\""
      ],
      "metadata": {
        "colab": {
          "base_uri": "https://localhost:8080/",
          "height": 141
        },
        "id": "HJZOOHOg0vOU",
        "outputId": "9478dff1-2322-465e-f637-d5d7c87c4869"
      },
      "execution_count": 1,
      "outputs": [
        {
          "output_type": "error",
          "ename": "NameError",
          "evalue": "name 'root_path' is not defined",
          "traceback": [
            "\u001b[0;31m---------------------------------------------------------------------------\u001b[0m",
            "\u001b[0;31mNameError\u001b[0m                                 Traceback (most recent call last)",
            "\u001b[0;32m<ipython-input-1-59c7ad53c1fd>\u001b[0m in \u001b[0;36m<cell line: 0>\u001b[0;34m()\u001b[0m\n\u001b[0;32m----> 1\u001b[0;31m \u001b[0mmodel_path\u001b[0m \u001b[0;34m=\u001b[0m \u001b[0;34mf\"{root_path}/{model_name}.pt\"\u001b[0m\u001b[0;34m\u001b[0m\u001b[0;34m\u001b[0m\u001b[0m\n\u001b[0m",
            "\u001b[0;31mNameError\u001b[0m: name 'root_path' is not defined"
          ]
        }
      ]
    },
    {
      "cell_type": "markdown",
      "source": [
        "Next we need the source you are inferencing with the model.\n",
        "\n",
        "\n",
        "\n",
        "You can see the types of sources here: https://docs.ultralytics.com/modes/predict/#inference-sources.\n",
        "\n",
        "\n",
        "\n",
        "View the types of image and video formats you can use here: https://docs.ultralytics.com/modes/predict/#image-and-video-formats.\n",
        "\n",
        "\n",
        "\n",
        "Copy the file path or URL to your source and paste it below."
      ],
      "metadata": {
        "id": "7OFbE5vr1BMT"
      }
    },
    {
      "cell_type": "code",
      "source": [
        "#Paths or Youtube links are strings\n",
        "\n",
        "#source = \"https://youtu.be/y-QXYbd4Zb0\"\n",
        "source = \"https://youtu.be/apxdeD32kAk\""
      ],
      "metadata": {
        "id": "5roLwe1B1hl5"
      },
      "execution_count": 55,
      "outputs": []
    },
    {
      "cell_type": "markdown",
      "source": [
        "# Setup"
      ],
      "metadata": {
        "id": "fEE18HQv1JUa"
      }
    },
    {
      "cell_type": "code",
      "source": [
        "#Install the ultralytics repository\n",
        "\n",
        "#!git clone https://github.com/ultralytics/ultralytics.git ultralytics\n",
        "\n",
        "%cd /content/ultralytics\n",
        "\n",
        "!pip install -e."
      ],
      "metadata": {
        "colab": {
          "base_uri": "https://localhost:8080/",
          "height": 1000
        },
        "id": "WmA4VvFS07CI",
        "outputId": "6d70b65a-0fdb-4b82-f189-53b0ef48d8a3"
      },
      "execution_count": 56,
      "outputs": [
        {
          "output_type": "stream",
          "name": "stdout",
          "text": [
            "/content/ultralytics\n",
            "Obtaining file:///content/ultralytics\n",
            "  Installing build dependencies ... \u001b[?25l\u001b[?25hdone\n",
            "  Checking if build backend supports build_editable ... \u001b[?25l\u001b[?25hdone\n",
            "  Getting requirements to build editable ... \u001b[?25l\u001b[?25hdone\n",
            "  Preparing editable metadata (pyproject.toml) ... \u001b[?25l\u001b[?25hdone\n",
            "Requirement already satisfied: numpy>=1.23.0 in /usr/local/lib/python3.11/dist-packages (from ultralytics==8.3.9) (1.26.4)\n",
            "Requirement already satisfied: matplotlib>=3.3.0 in /usr/local/lib/python3.11/dist-packages (from ultralytics==8.3.9) (3.10.0)\n",
            "Requirement already satisfied: opencv-python>=4.6.0 in /usr/local/lib/python3.11/dist-packages (from ultralytics==8.3.9) (4.11.0.86)\n",
            "Requirement already satisfied: pillow>=7.1.2 in /usr/local/lib/python3.11/dist-packages (from ultralytics==8.3.9) (11.1.0)\n",
            "Requirement already satisfied: pyyaml>=5.3.1 in /usr/local/lib/python3.11/dist-packages (from ultralytics==8.3.9) (6.0.2)\n",
            "Requirement already satisfied: requests>=2.23.0 in /usr/local/lib/python3.11/dist-packages (from ultralytics==8.3.9) (2.32.3)\n",
            "Requirement already satisfied: scipy>=1.4.1 in /usr/local/lib/python3.11/dist-packages (from ultralytics==8.3.9) (1.14.1)\n",
            "Requirement already satisfied: torch>=1.8.0 in /usr/local/lib/python3.11/dist-packages (from ultralytics==8.3.9) (2.6.0)\n",
            "Requirement already satisfied: torchvision>=0.9.0 in /usr/local/lib/python3.11/dist-packages (from ultralytics==8.3.9) (0.21.0+cu124)\n",
            "Requirement already satisfied: tqdm>=4.64.0 in /usr/local/lib/python3.11/dist-packages (from ultralytics==8.3.9) (4.67.1)\n",
            "Requirement already satisfied: psutil in /usr/local/lib/python3.11/dist-packages (from ultralytics==8.3.9) (5.9.5)\n",
            "Requirement already satisfied: py-cpuinfo in /usr/local/lib/python3.11/dist-packages (from ultralytics==8.3.9) (9.0.0)\n",
            "Requirement already satisfied: pandas>=1.1.4 in /usr/local/lib/python3.11/dist-packages (from ultralytics==8.3.9) (2.2.2)\n",
            "Requirement already satisfied: seaborn>=0.11.0 in /usr/local/lib/python3.11/dist-packages (from ultralytics==8.3.9) (0.13.2)\n",
            "Requirement already satisfied: ultralytics-thop>=2.0.0 in /usr/local/lib/python3.11/dist-packages (from ultralytics==8.3.9) (2.0.14)\n",
            "Requirement already satisfied: contourpy>=1.0.1 in /usr/local/lib/python3.11/dist-packages (from matplotlib>=3.3.0->ultralytics==8.3.9) (1.3.1)\n",
            "Requirement already satisfied: cycler>=0.10 in /usr/local/lib/python3.11/dist-packages (from matplotlib>=3.3.0->ultralytics==8.3.9) (0.12.1)\n",
            "Requirement already satisfied: fonttools>=4.22.0 in /usr/local/lib/python3.11/dist-packages (from matplotlib>=3.3.0->ultralytics==8.3.9) (4.57.0)\n",
            "Requirement already satisfied: kiwisolver>=1.3.1 in /usr/local/lib/python3.11/dist-packages (from matplotlib>=3.3.0->ultralytics==8.3.9) (1.4.8)\n",
            "Requirement already satisfied: packaging>=20.0 in /usr/local/lib/python3.11/dist-packages (from matplotlib>=3.3.0->ultralytics==8.3.9) (24.2)\n",
            "Requirement already satisfied: pyparsing>=2.3.1 in /usr/local/lib/python3.11/dist-packages (from matplotlib>=3.3.0->ultralytics==8.3.9) (3.2.3)\n",
            "Requirement already satisfied: python-dateutil>=2.7 in /usr/local/lib/python3.11/dist-packages (from matplotlib>=3.3.0->ultralytics==8.3.9) (2.8.2)\n",
            "Requirement already satisfied: pytz>=2020.1 in /usr/local/lib/python3.11/dist-packages (from pandas>=1.1.4->ultralytics==8.3.9) (2025.2)\n",
            "Requirement already satisfied: tzdata>=2022.7 in /usr/local/lib/python3.11/dist-packages (from pandas>=1.1.4->ultralytics==8.3.9) (2025.2)\n",
            "Requirement already satisfied: charset-normalizer<4,>=2 in /usr/local/lib/python3.11/dist-packages (from requests>=2.23.0->ultralytics==8.3.9) (3.4.1)\n",
            "Requirement already satisfied: idna<4,>=2.5 in /usr/local/lib/python3.11/dist-packages (from requests>=2.23.0->ultralytics==8.3.9) (3.7)\n",
            "Requirement already satisfied: urllib3<3,>=1.21.1 in /usr/local/lib/python3.11/dist-packages (from requests>=2.23.0->ultralytics==8.3.9) (2.3.0)\n",
            "Requirement already satisfied: certifi>=2017.4.17 in /usr/local/lib/python3.11/dist-packages (from requests>=2.23.0->ultralytics==8.3.9) (2025.1.31)\n",
            "Requirement already satisfied: filelock in /usr/local/lib/python3.11/dist-packages (from torch>=1.8.0->ultralytics==8.3.9) (3.18.0)\n",
            "Requirement already satisfied: typing-extensions>=4.10.0 in /usr/local/lib/python3.11/dist-packages (from torch>=1.8.0->ultralytics==8.3.9) (4.13.1)\n",
            "Requirement already satisfied: networkx in /usr/local/lib/python3.11/dist-packages (from torch>=1.8.0->ultralytics==8.3.9) (3.4.2)\n",
            "Requirement already satisfied: jinja2 in /usr/local/lib/python3.11/dist-packages (from torch>=1.8.0->ultralytics==8.3.9) (3.1.6)\n",
            "Requirement already satisfied: fsspec in /usr/local/lib/python3.11/dist-packages (from torch>=1.8.0->ultralytics==8.3.9) (2025.3.2)\n",
            "Requirement already satisfied: nvidia-cuda-nvrtc-cu12==12.4.127 in /usr/local/lib/python3.11/dist-packages (from torch>=1.8.0->ultralytics==8.3.9) (12.4.127)\n",
            "Requirement already satisfied: nvidia-cuda-runtime-cu12==12.4.127 in /usr/local/lib/python3.11/dist-packages (from torch>=1.8.0->ultralytics==8.3.9) (12.4.127)\n",
            "Requirement already satisfied: nvidia-cuda-cupti-cu12==12.4.127 in /usr/local/lib/python3.11/dist-packages (from torch>=1.8.0->ultralytics==8.3.9) (12.4.127)\n",
            "Requirement already satisfied: nvidia-cudnn-cu12==9.1.0.70 in /usr/local/lib/python3.11/dist-packages (from torch>=1.8.0->ultralytics==8.3.9) (9.1.0.70)\n",
            "Requirement already satisfied: nvidia-cublas-cu12==12.4.5.8 in /usr/local/lib/python3.11/dist-packages (from torch>=1.8.0->ultralytics==8.3.9) (12.4.5.8)\n",
            "Requirement already satisfied: nvidia-cufft-cu12==11.2.1.3 in /usr/local/lib/python3.11/dist-packages (from torch>=1.8.0->ultralytics==8.3.9) (11.2.1.3)\n",
            "Requirement already satisfied: nvidia-curand-cu12==10.3.5.147 in /usr/local/lib/python3.11/dist-packages (from torch>=1.8.0->ultralytics==8.3.9) (10.3.5.147)\n",
            "Requirement already satisfied: nvidia-cusolver-cu12==11.6.1.9 in /usr/local/lib/python3.11/dist-packages (from torch>=1.8.0->ultralytics==8.3.9) (11.6.1.9)\n",
            "Requirement already satisfied: nvidia-cusparse-cu12==12.3.1.170 in /usr/local/lib/python3.11/dist-packages (from torch>=1.8.0->ultralytics==8.3.9) (12.3.1.170)\n",
            "Requirement already satisfied: nvidia-cusparselt-cu12==0.6.2 in /usr/local/lib/python3.11/dist-packages (from torch>=1.8.0->ultralytics==8.3.9) (0.6.2)\n",
            "Requirement already satisfied: nvidia-nccl-cu12==2.21.5 in /usr/local/lib/python3.11/dist-packages (from torch>=1.8.0->ultralytics==8.3.9) (2.21.5)\n",
            "Requirement already satisfied: nvidia-nvtx-cu12==12.4.127 in /usr/local/lib/python3.11/dist-packages (from torch>=1.8.0->ultralytics==8.3.9) (12.4.127)\n",
            "Requirement already satisfied: nvidia-nvjitlink-cu12==12.4.127 in /usr/local/lib/python3.11/dist-packages (from torch>=1.8.0->ultralytics==8.3.9) (12.4.127)\n",
            "Requirement already satisfied: triton==3.2.0 in /usr/local/lib/python3.11/dist-packages (from torch>=1.8.0->ultralytics==8.3.9) (3.2.0)\n",
            "Requirement already satisfied: sympy==1.13.1 in /usr/local/lib/python3.11/dist-packages (from torch>=1.8.0->ultralytics==8.3.9) (1.13.1)\n",
            "Requirement already satisfied: mpmath<1.4,>=1.1.0 in /usr/local/lib/python3.11/dist-packages (from sympy==1.13.1->torch>=1.8.0->ultralytics==8.3.9) (1.3.0)\n",
            "Requirement already satisfied: six>=1.5 in /usr/local/lib/python3.11/dist-packages (from python-dateutil>=2.7->matplotlib>=3.3.0->ultralytics==8.3.9) (1.17.0)\n",
            "Requirement already satisfied: MarkupSafe>=2.0 in /usr/local/lib/python3.11/dist-packages (from jinja2->torch>=1.8.0->ultralytics==8.3.9) (3.0.2)\n",
            "Building wheels for collected packages: ultralytics\n",
            "  Building editable for ultralytics (pyproject.toml) ... \u001b[?25l\u001b[?25hdone\n",
            "  Created wheel for ultralytics: filename=ultralytics-8.3.9-0.editable-py3-none-any.whl size=22989 sha256=3914be8e69719f3150100252bd0827e8af448a946485fb5a0b4e9ceeb14b7c0c\n",
            "  Stored in directory: /tmp/pip-ephem-wheel-cache-ul5vg2nk/wheels/ea/71/6b/a9012dfb148489fd8125c2310e565414c996b3c7721defe799\n",
            "Successfully built ultralytics\n",
            "Installing collected packages: ultralytics\n",
            "  Attempting uninstall: ultralytics\n",
            "    Found existing installation: ultralytics 8.3.9\n",
            "    Uninstalling ultralytics-8.3.9:\n",
            "      Successfully uninstalled ultralytics-8.3.9\n",
            "Successfully installed ultralytics-8.3.9\n"
          ]
        },
        {
          "output_type": "display_data",
          "data": {
            "application/vnd.colab-display-data+json": {
              "pip_warning": {
                "packages": [
                  "ultralytics"
                ]
              },
              "id": "e355ef7d5bb14782a0635317c6302f4b"
            }
          },
          "metadata": {}
        }
      ]
    },
    {
      "cell_type": "markdown",
      "source": [
        "# Running Inference with YOLO11\n",
        "\n",
        "Find the processed video by opening the files panel. Navigate to ultralytics -> runs -> detect -> predict. The bottom of the output gives the directory of the outputed video file. You can view all the arguments for predict here: https://docs.ultralytics.com/modes/predict/#inference-arguments\n"
      ],
      "metadata": {
        "id": "ZN2kaDdS1OJ0"
      }
    },
    {
      "cell_type": "code",
      "source": [
        "from ultralytics import YOLO\n",
        "\n",
        "model = YOLO(model_path)\n",
        "\n",
        "model.predict(source = source, save=True, conf=0.1)\n"
      ],
      "metadata": {
        "colab": {
          "base_uri": "https://localhost:8080/",
          "height": 383
        },
        "id": "PvPnOAmj1LWT",
        "outputId": "629ba10e-2551-44e4-fe2b-d14b4c2b7c69"
      },
      "execution_count": 1,
      "outputs": [
        {
          "output_type": "error",
          "ename": "ImportError",
          "evalue": "cannot import name 'YOLO' from 'ultralytics' (unknown location)",
          "traceback": [
            "\u001b[0;31m---------------------------------------------------------------------------\u001b[0m",
            "\u001b[0;31mImportError\u001b[0m                               Traceback (most recent call last)",
            "\u001b[0;32m<ipython-input-1-10ee44116ec4>\u001b[0m in \u001b[0;36m<cell line: 0>\u001b[0;34m()\u001b[0m\n\u001b[0;32m----> 1\u001b[0;31m \u001b[0;32mfrom\u001b[0m \u001b[0multralytics\u001b[0m \u001b[0;32mimport\u001b[0m \u001b[0mYOLO\u001b[0m\u001b[0;34m\u001b[0m\u001b[0;34m\u001b[0m\u001b[0m\n\u001b[0m\u001b[1;32m      2\u001b[0m \u001b[0;34m\u001b[0m\u001b[0m\n\u001b[1;32m      3\u001b[0m \u001b[0mmodel\u001b[0m \u001b[0;34m=\u001b[0m \u001b[0mYOLO\u001b[0m\u001b[0;34m(\u001b[0m\u001b[0mmodel_path\u001b[0m\u001b[0;34m)\u001b[0m\u001b[0;34m\u001b[0m\u001b[0;34m\u001b[0m\u001b[0m\n\u001b[1;32m      4\u001b[0m \u001b[0;34m\u001b[0m\u001b[0m\n\u001b[1;32m      5\u001b[0m \u001b[0mmodel\u001b[0m\u001b[0;34m.\u001b[0m\u001b[0mpredict\u001b[0m\u001b[0;34m(\u001b[0m\u001b[0msource\u001b[0m \u001b[0;34m=\u001b[0m \u001b[0msource\u001b[0m\u001b[0;34m,\u001b[0m \u001b[0msave\u001b[0m\u001b[0;34m=\u001b[0m\u001b[0;32mTrue\u001b[0m\u001b[0;34m,\u001b[0m \u001b[0mconf\u001b[0m\u001b[0;34m=\u001b[0m\u001b[0;36m0.1\u001b[0m\u001b[0;34m)\u001b[0m\u001b[0;34m\u001b[0m\u001b[0;34m\u001b[0m\u001b[0m\n",
            "\u001b[0;31mImportError\u001b[0m: cannot import name 'YOLO' from 'ultralytics' (unknown location)",
            "",
            "\u001b[0;31m---------------------------------------------------------------------------\u001b[0;32m\nNOTE: If your import is failing due to a missing package, you can\nmanually install dependencies using either !pip or !apt.\n\nTo view examples of installing some common dependencies, click the\n\"Open Examples\" button below.\n\u001b[0;31m---------------------------------------------------------------------------\u001b[0m\n"
          ],
          "errorDetails": {
            "actions": [
              {
                "action": "open_url",
                "actionText": "Open Examples",
                "url": "/notebooks/snippets/importing_libraries.ipynb"
              }
            ]
          }
        }
      ]
    }
  ],
  "metadata": {
    "colab": {
      "provenance": [],
      "gpuType": "T4"
    },
    "kaggle": {
      "accelerator": "nvidiaTeslaT4",
      "dataSources": [],
      "dockerImageVersionId": 30804,
      "isGpuEnabled": true,
      "isInternetEnabled": true,
      "language": "python",
      "sourceType": "notebook"
    },
    "kernelspec": {
      "display_name": "Python 3",
      "name": "python3"
    },
    "language_info": {
      "codemirror_mode": {
        "name": "ipython",
        "version": 3
      },
      "file_extension": ".py",
      "mimetype": "text/x-python",
      "name": "python",
      "nbconvert_exporter": "python",
      "pygments_lexer": "ipython3",
      "version": "3.10.14"
    },
    "accelerator": "GPU"
  },
  "nbformat": 4,
  "nbformat_minor": 0
}